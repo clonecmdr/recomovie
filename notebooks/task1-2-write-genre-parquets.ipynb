{
 "cells": [
  {
   "cell_type": "markdown",
   "metadata": {},
   "source": [
    "# Task one\n",
    "## Stage 2: \n",
    "\n",
    "Taking the output from stage 1, create a folder called genres, and\n",
    "inside this folder produce parquet files for each subgenre from the dataset. So\n",
    "for example, Action.parquet will contain all the die hard/mission impossible\n",
    "films, etc.\n",
    "\n",
    "Example valid names:\n",
    "- `Adventure`\n",
    "- genre=Action\n",
    "- `Faith_and_Spirituality`\n",
    "- genre=Faith_and_Spirituality\n",
    "\n",
    "The schema of each genre parquet must match the schema from stage1.\n",
    "\n",
    "A genre name like `Action, adventure` should be broken down into separate genres `[“Action”, “Adventure”]`"
   ]
  },
  {
   "cell_type": "code",
   "execution_count": 1,
   "metadata": {},
   "outputs": [],
   "source": [
    "import pyspark.sql\n",
    "from pyspark.sql import SparkSession\n",
    "from pyspark.sql import functions as f"
   ]
  },
  {
   "cell_type": "code",
   "execution_count": 2,
   "metadata": {},
   "outputs": [
    {
     "name": "stderr",
     "output_type": "stream",
     "text": [
      "Setting default log level to \"WARN\".\n",
      "To adjust logging level use sc.setLogLevel(newLevel). For SparkR, use setLogLevel(newLevel).\n",
      "24/12/19 17:56:20 WARN NativeCodeLoader: Unable to load native-hadoop library for your platform... using builtin-java classes where applicable\n"
     ]
    }
   ],
   "source": [
    "spark = SparkSession.builder \\\n",
    "    .master('local[*]') \\\n",
    "    .config(\"spark.driver.memory\", \"15g\") \\\n",
    "    .appName('imdb-munging') \\\n",
    "    .getOrCreate()\n",
    "\n",
    "sc = spark.sparkContext"
   ]
  },
  {
   "cell_type": "code",
   "execution_count": null,
   "metadata": {},
   "outputs": [],
   "source": [
    "input_path = \"../output/films\"\n",
    "df = spark.read.parquet(input_path)\n",
    "df.show(20, truncate=False)"
   ]
  },
  {
   "cell_type": "code",
   "execution_count": null,
   "metadata": {},
   "outputs": [],
   "source": [
    "df = df.withColumn('genre', f.col('genres')[0]).repartition('genre').sortWithinPartitions('persons')\n",
    "#df.show(20, truncate=False)\n",
    "df.printSchema()"
   ]
  },
  {
   "cell_type": "code",
   "execution_count": 37,
   "metadata": {},
   "outputs": [
    {
     "name": "stdout",
     "output_type": "stream",
     "text": [
      "+-----------+-----+\n",
      "|      genre|count|\n",
      "+-----------+-----+\n",
      "|      Drama|85765|\n",
      "|Documentary|84270|\n",
      "|     Comedy|56628|\n",
      "|     Action|30127|\n",
      "|     Horror|13616|\n",
      "|  Biography|12341|\n",
      "|      Crime|11951|\n",
      "|  Adventure|10559|\n",
      "|   Thriller| 5631|\n",
      "|      Adult| 5520|\n",
      "|  Animation| 3844|\n",
      "|    Romance| 3365|\n",
      "|     Family| 2407|\n",
      "|    Fantasy| 2020|\n",
      "|      Music| 1775|\n",
      "|    Mystery| 1771|\n",
      "|     Sci-Fi| 1480|\n",
      "|    Musical|  932|\n",
      "|    History|  788|\n",
      "|      Sport|  678|\n",
      "+-----------+-----+\n",
      "only showing top 20 rows\n",
      "\n"
     ]
    }
   ],
   "source": [
    "# a quick count of the main genres\n",
    "df.groupBy('genre').count().sort(f.desc('count')).show()"
   ]
  },
  {
   "cell_type": "code",
   "execution_count": 43,
   "metadata": {},
   "outputs": [
    {
     "name": "stderr",
     "output_type": "stream",
     "text": [
      "                                                                                \r"
     ]
    }
   ],
   "source": [
    "# A better approach\n",
    "\n",
    "output_path = '../output/genres'\n",
    "\n",
    "df.write.parquet(output_path, mode='overwrite', partitionBy='genre')\n",
    "\n",
    "# write to the same output path as df read path\n",
    "#df.write.saveAsTable('genres', mode='overwrite', partitionBy='genre')"
   ]
  },
  {
   "cell_type": "code",
   "execution_count": 34,
   "metadata": {},
   "outputs": [
    {
     "name": "stdout",
     "output_type": "stream",
     "text": [
      "['Crime', 'Romance', 'Thriller', 'Adventure', 'Drama', 'War', 'Documentary', 'Reality-TV', 'Family', 'Fantasy', 'Adult', 'History', 'Mystery', 'Musical', 'Animation', 'Music', 'Horror', 'Western', 'Biography', 'Comedy', 'Action', 'Sport', 'Talk-Show', 'Sci-Fi', 'News', 'Game-Show']\n"
     ]
    }
   ],
   "source": [
    "rows = df.groupBy('genre').agg(f.count('genre')).collect()\n",
    "genre_list = [row['genre'] for row in rows]\n",
    "print(genre_list)"
   ]
  },
  {
   "cell_type": "code",
   "execution_count": 33,
   "metadata": {},
   "outputs": [],
   "source": [
    "# A different solution: for each genre write a `genre.parquet` file\n",
    "\n",
    "'''\n",
    "for g in genre_list:\n",
    "    output_file = r'../output/genres/%s.parquet' % g\n",
    "    df.filter(df['genre'] == g).write.save(output_file)\n",
    "'''"
   ]
  },
  {
   "cell_type": "code",
   "execution_count": 54,
   "metadata": {},
   "outputs": [
    {
     "name": "stdout",
     "output_type": "stream",
     "text": [
      "root\n",
      " |-- film_id: string (nullable = true)\n",
      " |-- title: string (nullable = true)\n",
      " |-- year: date (nullable = true)\n",
      " |-- duration: integer (nullable = true)\n",
      " |-- genres: array (nullable = true)\n",
      " |    |-- element: string (containsNull = true)\n",
      " |-- persons: array (nullable = true)\n",
      " |    |-- element: string (containsNull = true)\n",
      " |-- genre: string (nullable = true)\n",
      "\n"
     ]
    }
   ],
   "source": [
    "# Read a partitioned parquet\n",
    "\n",
    "file = \"../output/genres/genre=Adventure\"\n",
    "#file = \"../output/genres/Adventure.parquet\"\n",
    "gdf = spark.read.parquet(file)\n",
    "\n",
    "gdf.printSchema()"
   ]
  },
  {
   "cell_type": "code",
   "execution_count": 14,
   "metadata": {},
   "outputs": [],
   "source": [
    "sc.stop()"
   ]
  }
 ],
 "metadata": {
  "kernelspec": {
   "display_name": "luigi",
   "language": "python",
   "name": "luigi"
  },
  "language_info": {
   "codemirror_mode": {
    "name": "ipython",
    "version": 3
   },
   "file_extension": ".py",
   "mimetype": "text/x-python",
   "name": "python",
   "nbconvert_exporter": "python",
   "pygments_lexer": "ipython3",
   "version": "3.13.0"
  }
 },
 "nbformat": 4,
 "nbformat_minor": 2
}
