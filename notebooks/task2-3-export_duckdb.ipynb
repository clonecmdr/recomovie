{
 "cells": [
  {
   "cell_type": "markdown",
   "metadata": {},
   "source": [
    "## Task two\n",
    "\n",
    "### Stage three\n",
    "\n",
    "Export a the parquet files to a DuckDB (embedded DB) database, in order to serve the data via an API.  \n",
    "\n",
    "SQLite might have been an alternative here, but exposing the service the parquet files via FastAPI or Flask might was problematic, especially as a table join was needed."
   ]
  },
  {
   "cell_type": "code",
   "execution_count": 2,
   "metadata": {},
   "outputs": [],
   "source": [
    "#from pyspark.context import SparkContext\n",
    "#from pyspark.conf import SparkConf\n",
    "#from pyspark.sql import functions as f\n",
    "#\n",
    "#conf = SparkConf()\\\n",
    "#    .setAppName('imdb-munging')\\\n",
    "#    .setMaster('local[*]')\\\n",
    "#    .setExecutorEnv(\"spark.driver.memory\", \"15g\")\n",
    "#\n",
    "#sc = SparkContext.getOrCreate(conf=conf)\n"
   ]
  },
  {
   "cell_type": "code",
   "execution_count": 48,
   "metadata": {},
   "outputs": [],
   "source": [
    "#from duckdb.experimental.spark.sql import SparkSession as session\n",
    "#import duckdb.experimental.spark.sql.functions as f\n",
    "#\n",
    "#spark = session.builder.getOrCreate()"
   ]
  },
  {
   "cell_type": "code",
   "execution_count": 1,
   "metadata": {},
   "outputs": [],
   "source": [
    "import duckdb"
   ]
  },
  {
   "cell_type": "code",
   "execution_count": null,
   "metadata": {},
   "outputs": [],
   "source": [
    "db_file = \"../duckdb/films.duckdb\"\n",
    "\n",
    "ddb_conf = {'access_mode': 'read_only',}\n",
    "# to use a database file (not shared between processes)\n",
    "con = duckdb.connect(db_file, config = ddb_conf)"
   ]
  },
  {
   "cell_type": "code",
   "execution_count": 23,
   "metadata": {},
   "outputs": [
    {
     "data": {
      "text/plain": [
       "┌─────────────────────────────────────────────┬───────────┬────────────────────────────────────────────────────────────────────────────────────────────────────────────────┬────────────┬─────────┐\n",
       "│                    name                     │   value   │                                                  description                                                   │ input_type │  scope  │\n",
       "│                   varchar                   │  varchar  │                                                    varchar                                                     │  varchar   │ varchar │\n",
       "├─────────────────────────────────────────────┼───────────┼────────────────────────────────────────────────────────────────────────────────────────────────────────────────┼────────────┼─────────┤\n",
       "│ access_mode                                 │ read_only │ Access mode of the database (AUTOMATIC, READ_ONLY or READ_WRITE)                                               │ VARCHAR    │ GLOBAL  │\n",
       "│ allocator_background_threads                │ false     │ Whether to enable the allocator background thread.                                                             │ BOOLEAN    │ GLOBAL  │\n",
       "│ allocator_bulk_deallocation_flush_threshold │ 512.0 MiB │ If a bulk deallocation larger than this occurs, flush outstanding allocations.                                 │ VARCHAR    │ GLOBAL  │\n",
       "│ allocator_flush_threshold                   │ 128.0 MiB │ Peak allocation threshold at which to flush the allocator after completing a task.                             │ VARCHAR    │ GLOBAL  │\n",
       "│ allow_community_extensions                  │ true      │ Allow to load community built extensions                                                                       │ BOOLEAN    │ GLOBAL  │\n",
       "│ allow_extensions_metadata_mismatch          │ false     │ Allow to load extensions with not compatible metadata                                                          │ BOOLEAN    │ GLOBAL  │\n",
       "│ allow_persistent_secrets                    │ true      │ Allow the creation of persistent secrets, that are stored and loaded on restarts                               │ BOOLEAN    │ GLOBAL  │\n",
       "│ allow_unredacted_secrets                    │ false     │ Allow printing unredacted secrets                                                                              │ BOOLEAN    │ GLOBAL  │\n",
       "│ allow_unsigned_extensions                   │ false     │ Allow to load extensions with invalid or missing signatures                                                    │ BOOLEAN    │ GLOBAL  │\n",
       "│ allowed_directories                         │ []        │ List of directories/prefixes that are ALWAYS allowed to be queried - even when enable_external_access is false │ VARCHAR[]  │ GLOBAL  │\n",
       "│    ·                                        │ ·         │          ·                                                                                                     │    ·       │   ·     │\n",
       "│    ·                                        │ ·         │          ·                                                                                                     │    ·       │   ·     │\n",
       "│    ·                                        │ ·         │          ·                                                                                                     │    ·       │   ·     │\n",
       "│ Calendar                                    │ gregorian │ The current calendar                                                                                           │ VARCHAR    │ GLOBAL  │\n",
       "│ parquet_metadata_cache                      │ false     │ Cache Parquet metadata - useful when reading the same files multiple times                                     │ BOOLEAN    │ GLOBAL  │\n",
       "│ enable_geoparquet_conversion                │ true      │ Attempt to decode/encode geometry data in/as GeoParquet files if the spatial extension is present.             │ BOOLEAN    │ GLOBAL  │\n",
       "│ disable_parquet_prefetching                 │ false     │ Disable the prefetching mechanism in Parquet                                                                   │ BOOLEAN    │ GLOBAL  │\n",
       "│ binary_as_string                            │           │ In Parquet files, interpret binary data as a string.                                                           │ BOOLEAN    │ GLOBAL  │\n",
       "│ python_scan_all_frames                      │ false     │ If set, restores the old behavior of scanning all preceding frames to locate the referenced variable.          │ BOOLEAN    │ GLOBAL  │\n",
       "│ TimeZone                                    │ UTC       │ The current time zone                                                                                          │ VARCHAR    │ GLOBAL  │\n",
       "│ prefetch_all_parquet_files                  │ false     │ Use the prefetching mechanism for all types of parquet files                                                   │ BOOLEAN    │ GLOBAL  │\n",
       "│ python_enable_replacements                  │ true      │ Whether variables visible to the current stack should be used for replacement scans.                           │ BOOLEAN    │ GLOBAL  │\n",
       "│ pandas_analyze_sample                       │ 1000      │ The maximum number of rows to sample when analyzing a pandas object column.                                    │ UBIGINT    │ GLOBAL  │\n",
       "├─────────────────────────────────────────────┴───────────┴────────────────────────────────────────────────────────────────────────────────────────────────────────────────┴────────────┴─────────┤\n",
       "│ 114 rows (20 shown)                                                                                                                                                                   5 columns │\n",
       "└─────────────────────────────────────────────────────────────────────────────────────────────────────────────────────────────────────────────────────────────────────────────────────────────────┘"
      ]
     },
     "execution_count": 23,
     "metadata": {},
     "output_type": "execute_result"
    }
   ],
   "source": [
    "#con.sql(\"SELECT current_setting('threads') AS threads;\")\n",
    "con.sql(\"SELECT * FROM duckdb_settings()\")"
   ]
  },
  {
   "cell_type": "code",
   "execution_count": 4,
   "metadata": {},
   "outputs": [],
   "source": [
    "# load the IMDb films data prepared in previous task\n",
    "#files = \"../output/%s/*.parquet\" % \"films\"\n",
    "#df_film = duckdb.read_parquet(files)\n",
    "# SELECT * FROM read_parquet('genres/*/*.parquet', hive_partitioning = true);\n",
    "#duckdb.sql(\"SELECT * FROM '..output/films/*.parquet'\")"
   ]
  },
  {
   "cell_type": "code",
   "execution_count": null,
   "metadata": {},
   "outputs": [],
   "source": [
    "# Ingest all the film details data prepared in spark\n",
    "parquet_files = \"../output/%s/*.parquet\" % \"films\"\n",
    "\n",
    "# Change `read_only` to False\n",
    "with duckdb.connect(db) as con:\n",
    "    con.sql(f'CREATE TABLE films AS SELECT * FROM read_parquet(\"{parquet_files}\")')\n",
    "    con.sql(\"DESCRIBE films\").show()\n"
   ]
  },
  {
   "cell_type": "code",
   "execution_count": null,
   "metadata": {},
   "outputs": [
    {
     "data": {
      "application/vnd.jupyter.widget-view+json": {
       "model_id": "58a16482bcb841c89da6fa79750d5abd",
       "version_major": 2,
       "version_minor": 0
      },
      "text/plain": [
       "FloatProgress(value=0.0, layout=Layout(width='auto'), style=ProgressStyle(bar_color='black'))"
      ]
     },
     "metadata": {},
     "output_type": "display_data"
    }
   ],
   "source": [
    "# ingest the cosine similarity data prepared in spark\n",
    "parquet_files = \"../output/%s/*.parquet\" % \"csfilm\"\n",
    "ingest_query = f'SELECT * FROM read_parquet(\"{parquet_files}\")'\n",
    "\n",
    "with duckdb.connect(db) as con:\n",
    "    con.sql(f'CREATE OR REPLACE TABLE films_cos_sim AS {ingest_query}')\n",
    "    con.sql(\"DESCRIBE films_cos_sim\").show()\n"
   ]
  },
  {
   "cell_type": "code",
   "execution_count": 25,
   "metadata": {},
   "outputs": [
    {
     "name": "stdout",
     "output_type": "stream",
     "text": [
      "┌─────────────┬──────────────┬─────────┬─────────┬─────────┬─────────┐\n",
      "│ column_name │ column_type  │  null   │   key   │ default │  extra  │\n",
      "│   varchar   │   varchar    │ varchar │ varchar │ varchar │ varchar │\n",
      "├─────────────┼──────────────┼─────────┼─────────┼─────────┼─────────┤\n",
      "│ film_id     │ INTEGER      │ YES     │ NULL    │ NULL    │ NULL    │\n",
      "│ title       │ VARCHAR      │ YES     │ NULL    │ NULL    │ NULL    │\n",
      "│ year        │ DATE         │ YES     │ NULL    │ NULL    │ NULL    │\n",
      "│ duration    │ INTEGER      │ YES     │ NULL    │ NULL    │ NULL    │\n",
      "│ genres      │ VARCHAR[]    │ YES     │ NULL    │ NULL    │ NULL    │\n",
      "│ rating      │ DECIMAL(4,2) │ YES     │ NULL    │ NULL    │ NULL    │\n",
      "│ vote_count  │ INTEGER      │ YES     │ NULL    │ NULL    │ NULL    │\n",
      "│ persons     │ VARCHAR[]    │ YES     │ NULL    │ NULL    │ NULL    │\n",
      "└─────────────┴──────────────┴─────────┴─────────┴─────────┴─────────┘\n",
      "\n",
      "┌─────────────┬─────────────┬─────────┬─────────┬─────────┬─────────┐\n",
      "│ column_name │ column_type │  null   │   key   │ default │  extra  │\n",
      "│   varchar   │   varchar   │ varchar │ varchar │ varchar │ varchar │\n",
      "├─────────────┼─────────────┼─────────┼─────────┼─────────┼─────────┤\n",
      "│ film_id     │ INTEGER     │ YES     │ NULL    │ NULL    │ NULL    │\n",
      "│ other_id    │ INTEGER     │ YES     │ NULL    │ NULL    │ NULL    │\n",
      "│ similarity  │ DOUBLE      │ YES     │ NULL    │ NULL    │ NULL    │\n",
      "└─────────────┴─────────────┴─────────┴─────────┴─────────┴─────────┘\n",
      "\n"
     ]
    }
   ],
   "source": [
    "#with duckdb.connect(db_file) as con:\n",
    "columns = con.execute(\"SELECT DISTINCT(name) FROM pragma_table_info('films')\").fetchall()\n",
    "con.sql(\"DESCRIBE films\").show()\n",
    "con.sql(\"DESCRIBE films_cos_sim\").show()\n",
    "#con.table(\"films_cos_sim\").show()\n"
   ]
  },
  {
   "cell_type": "code",
   "execution_count": 44,
   "metadata": {},
   "outputs": [
    {
     "data": {
      "text/plain": [
       "┌─────────┬────────────────────┬────────────────────┬────────────┬────────────────────┬───────────┬────────────────────┬───────────────────┬───────────────────────────────────────────────────────────────────────────────────────────────────────────────────────────────────────────────────────────────────────────────────────────────────────────────────────────────────────────────────────────────────────────────┐\n",
       "│  aggr   │      film_id       │       title        │    year    │      duration      │  genres   │       rating       │    vote_count     │                                                                                                                                    persons                                                                                                                                    │\n",
       "│ varchar │       double       │      varchar       │  varchar   │       double       │  varchar  │       double       │      double       │                                                                                                                                    varchar                                                                                                                                    │\n",
       "├─────────┼────────────────────┼────────────────────┼────────────┼────────────────────┼───────────┼────────────────────┼───────────────────┼───────────────────────────────────────────────────────────────────────────────────────────────────────────────────────────────────────────────────────────────────────────────────────────────────────────────────────────────────────────────────────────────────────────────┤\n",
       "│ count   │            39427.0 │ 39427              │ 39427      │            39427.0 │ 39427     │            39427.0 │           39427.0 │ 39427                                                                                                                                                                                                                                                                         │\n",
       "│ mean    │ 3700587.5702437414 │ NULL               │ NULL       │ 106.67813934613336 │ NULL      │   6.87655921069318 │ 25150.02335962665 │ NULL                                                                                                                                                                                                                                                                          │\n",
       "│ stddev  │  6369596.808178274 │ NULL               │ NULL       │ 25.484140639700357 │ NULL      │ 0.6033739834590565 │ 100449.5367717636 │ NULL                                                                                                                                                                                                                                                                          │\n",
       "│ min     │              574.0 │ #69 Samskar Colony │ 1903-01-01 │               40.0 │ [Action]  │                6.0 │             500.0 │ ['Ganja' Karuppu, Jiiva, Prathap Pothen, Aruldoss, Ameer Sultan, Kunal Shah, Murali, T. Ramji, Yuvan Shankar Raja, Rahman, Raja Mohammad, Joy Badlani, Saranya Ponvannan, Gajala]                                                                                             │\n",
       "│ max     │         34957128.0 │ Únos               │ 2024-01-01 │              808.0 │ [Western] │                9.8 │         2978118.0 │ [Üstün Asutay, Ihsan Bilsev, Cengiz Tünay, Serdar Ateser, Hakan Aytekin, Nesli Çölgeçen, Irfan Eroglu, Türker Inanoglu, Sener Sen, Ali Uyandiran, Serdar Erçer, Can Kolukisa, Bican Günalan, Celal Perk, Tuncay Akça, Ertunç Senkay, Güzin Çoragan, Nahit Ataman, Ugur Yücel] │\n",
       "│ median  │           473658.0 │ NULL               │ NULL       │              102.0 │ NULL      │                6.8 │            2215.0 │ NULL                                                                                                                                                                                                                                                                          │\n",
       "└─────────┴────────────────────┴────────────────────┴────────────┴────────────────────┴───────────┴────────────────────┴───────────────────┴───────────────────────────────────────────────────────────────────────────────────────────────────────────────────────────────────────────────────────────────────────────────────────────────────────────────────────────────────────────────────────────────────────────────┘"
      ]
     },
     "execution_count": 44,
     "metadata": {},
     "output_type": "execute_result"
    }
   ],
   "source": [
    "# df_film.describe()"
   ]
  },
  {
   "cell_type": "code",
   "execution_count": 74,
   "metadata": {},
   "outputs": [
    {
     "name": "stdout",
     "output_type": "stream",
     "text": [
      "┌─────────┬──────────────────────────────────┬────────────┬──────────┬────────────────────────────┬──────────────┬────────────┬────────────────────────────────────────────────────────────────────────────────────────────────────────────────────────────────────────────────────────────────────────────────────────────────────────────────────────────────────────────────────────────────────────────────────────┐\n",
      "│ film_id │              title               │    year    │ duration │           genres           │    rating    │ vote_count │                                                                                                                                        persons                                                                                                                                         │\n",
      "│  int32  │             varchar              │    date    │  int32   │         varchar[]          │ decimal(4,2) │   int32    │                                                                                                                                       varchar[]                                                                                                                                        │\n",
      "├─────────┼──────────────────────────────────┼────────────┼──────────┼────────────────────────────┼──────────────┼────────────┼────────────────────────────────────────────────────────────────────────────────────────────────────────────────────────────────────────────────────────────────────────────────────────────────────────────────────────────────────────────────────────────────────────────────────────┤\n",
      "│ 2326554 │ A Girl Walks Home Alone at Night │ 2014-01-01 │      101 │ [Drama, Horror, Romance]   │         6.90 │      39676 │ [Reza Sixo Safai, Milad Eghbali, Lyle Vincent, Marshall Manesh, Rome Shadanloo, Ana Lily Amirpour, Bei Ru, Justin Begnaud, Dominic Rains, Alex O'Flinn, Sheila Vand, Ray Haratian, Arash Marandi, Mozhan Navabi, Sergio De La Vega, Sina Sayyah, Chris Maleki]                         │\n",
      "│   99785 │ Home Alone                       │ 1990-01-01 │      103 │ [Comedy, Family]           │         7.70 │     675425 │ [John Heard, Raja Gosnell, Daniel Stern, John Hughes, Devin Ratray, Hillary Wolf, Roberts Blossom, Chris Columbus, John Muto, John Williams, Gerry Bamman, Jane Jenkins, Janet Hirshenson, Macaulay Culkin, Julio Macat, Angela Goethals, Joe Pesci, Catherine O'Hara]                 │\n",
      "│  104431 │ Home Alone 2: Lost in New York   │ 1992-01-01 │      120 │ [Adventure, Comedy, Crime] │         6.90 │     416350 │ [John Heard, Raja Gosnell, Daniel Stern, John Hughes, Devin Ratray, Hillary Wolf, Chris Columbus, John Williams, Gerry Bamman, Jane Jenkins, Janet Hirshenson, Sandy Veneziano, Macaulay Culkin, Julio Macat, Michael C. Maronna, Joe Pesci, Maureen Elisabeth Shay, Catherine O'Hara] │\n",
      "└─────────┴──────────────────────────────────┴────────────┴──────────┴────────────────────────────┴──────────────┴────────────┴────────────────────────────────────────────────────────────────────────────────────────────────────────────────────────────────────────────────────────────────────────────────────────────────────────────────────────────────────────────────────────────────────────────────────────┘\n",
      "\n"
     ]
    }
   ],
   "source": [
    "# A few sample queries\n",
    "\n",
    "#df_film.filter('genres = \"Documentary\"').limit(3).show()\n",
    "\n",
    "#with duckdb.connect(db) as con:\n",
    "\n",
    "#con.sql(\"SELECT * FROM films WHERE year ='2024-01-01'\").show()\n",
    "#con.sql(\"SELECT * FROM films WHERE list_has_any(genres, ['Romance', 'Documentary']) ORDER BY rating DESC\").limit(20).show()\n",
    "#con.sql(\"SELECT * FROM films WHERE list_has_any(persons, ['Suzanne Collins']) ORDER BY rating DESC\").limit(20).show()\n",
    "#con.sql(\"SELECT * FROM films WHERE list_contains(persons, 'Suzanne Collins') ORDER BY rating DESC\").limit(20).show()    \n",
    "#con.sql(\"SELECT * FROM films WHERE list_contains(persons, 'Ridley Scott') ORDER BY title\").show(max_rows=50)  \n",
    "#con.sql(\"SELECT genres, count() AS count FROM films GROUP BY genres ORDER BY count DESC\").show(max_rows=50)\n",
    "#con.sql(\"SELECT * FROM films WHERE title LIKE '%Alien%' ORDER BY title\").show(max_rows=50)  \n",
    "#con.sql(\"SELECT * FROM films WHERE regexp_matches(title, '.*Alien.*') ORDER BY title\").show(max_rows=50)\n",
    "con.sql(\"SELECT * FROM films WHERE regexp_matches(title, '.*Home.Alone.*') ORDER BY title\").show(max_rows=50)  \n",
    "\n",
    "#con.sql(\"SELECT * FROM films WHERE regexp_matches(persons, '.*Culkin') ORDER BY title\").show(max_rows=50)  \n",
    "\n",
    "#df_film.count() # 39_427\n",
    "\n"
   ]
  },
  {
   "cell_type": "markdown",
   "metadata": {},
   "source": []
  },
  {
   "cell_type": "markdown",
   "metadata": {},
   "source": [
    "## Function to detect similarities between films"
   ]
  },
  {
   "cell_type": "code",
   "execution_count": 67,
   "metadata": {},
   "outputs": [],
   "source": [
    "from pandas import DataFrame\n",
    "\n",
    "def similar_films(film_id:int, threshold:float=0.1) -> DataFrame:\n",
    "    #with duckdb.connect(db_file, read_only=True) as con:\n",
    "        rdf = con.sql(\"\"\"    \n",
    "            SELECT similarity, films.film_id, title, year, duration, genres, rating, vote_count, persons\n",
    "              FROM films_cos_sim AS sim\n",
    "         LEFT JOIN films ON sim.other_id == films.film_id\n",
    "             WHERE sim.film_id == %s\n",
    "               AND sim.similarity >= %s\n",
    "          ORDER BY sim.similarity DESC\n",
    "             LIMIT 10\n",
    "          \"\"\" % (film_id, threshold) ).df()\n",
    "\n",
    "        return rdf\n",
    "\n",
    "def get_film(film_id:int) -> DataFrame:\n",
    "    rdf = con.sql(\"\"\"\n",
    "        SELECT *\n",
    "          FROM films\n",
    "         WHERE film_id == %s\n",
    "      \"\"\" % (film_id) ).df()\n",
    "\n",
    "    return rdf"
   ]
  },
  {
   "cell_type": "code",
   "execution_count": 68,
   "metadata": {},
   "outputs": [
    {
     "data": {
      "text/html": [
       "<div>\n",
       "<style scoped>\n",
       "    .dataframe tbody tr th:only-of-type {\n",
       "        vertical-align: middle;\n",
       "    }\n",
       "\n",
       "    .dataframe tbody tr th {\n",
       "        vertical-align: top;\n",
       "    }\n",
       "\n",
       "    .dataframe thead th {\n",
       "        text-align: right;\n",
       "    }\n",
       "</style>\n",
       "<table border=\"1\" class=\"dataframe\">\n",
       "  <thead>\n",
       "    <tr style=\"text-align: right;\">\n",
       "      <th></th>\n",
       "      <th>film_id</th>\n",
       "      <th>title</th>\n",
       "      <th>year</th>\n",
       "      <th>duration</th>\n",
       "      <th>genres</th>\n",
       "      <th>rating</th>\n",
       "      <th>vote_count</th>\n",
       "      <th>persons</th>\n",
       "    </tr>\n",
       "  </thead>\n",
       "  <tbody>\n",
       "    <tr>\n",
       "      <th>0</th>\n",
       "      <td>99785</td>\n",
       "      <td>Home Alone</td>\n",
       "      <td>1990-01-01</td>\n",
       "      <td>103</td>\n",
       "      <td>[Comedy, Family]</td>\n",
       "      <td>7.7</td>\n",
       "      <td>675425</td>\n",
       "      <td>[John Heard, Raja Gosnell, Daniel Stern, John Hughes, Devin Ratray, Hillary Wolf, Roberts Blossom, Chris Columbus, John Muto, John Williams, Gerry Bamman, Jane Jenkins, Janet Hirshenson, Macaulay Culkin, Julio Macat, Angela Goethals, Joe Pesci, Catherine O'Hara]</td>\n",
       "    </tr>\n",
       "  </tbody>\n",
       "</table>\n",
       "</div>"
      ],
      "text/plain": [
       "   film_id       title       year  duration            genres  rating  \\\n",
       "0    99785  Home Alone 1990-01-01       103  [Comedy, Family]     7.7   \n",
       "\n",
       "   vote_count  \\\n",
       "0      675425   \n",
       "\n",
       "                                                                                                                                                                                                                                                                  persons  \n",
       "0  [John Heard, Raja Gosnell, Daniel Stern, John Hughes, Devin Ratray, Hillary Wolf, Roberts Blossom, Chris Columbus, John Muto, John Williams, Gerry Bamman, Jane Jenkins, Janet Hirshenson, Macaulay Culkin, Julio Macat, Angela Goethals, Joe Pesci, Catherine O'Hara]  "
      ]
     },
     "metadata": {},
     "output_type": "display_data"
    },
    {
     "data": {
      "text/html": [
       "<div>\n",
       "<style scoped>\n",
       "    .dataframe tbody tr th:only-of-type {\n",
       "        vertical-align: middle;\n",
       "    }\n",
       "\n",
       "    .dataframe tbody tr th {\n",
       "        vertical-align: top;\n",
       "    }\n",
       "\n",
       "    .dataframe thead th {\n",
       "        text-align: right;\n",
       "    }\n",
       "</style>\n",
       "<table border=\"1\" class=\"dataframe\">\n",
       "  <thead>\n",
       "    <tr style=\"text-align: right;\">\n",
       "      <th></th>\n",
       "      <th>similarity</th>\n",
       "      <th>film_id</th>\n",
       "      <th>title</th>\n",
       "      <th>year</th>\n",
       "      <th>duration</th>\n",
       "      <th>genres</th>\n",
       "      <th>rating</th>\n",
       "      <th>vote_count</th>\n",
       "      <th>persons</th>\n",
       "    </tr>\n",
       "  </thead>\n",
       "  <tbody>\n",
       "    <tr>\n",
       "      <th>0</th>\n",
       "      <td>0.717906</td>\n",
       "      <td>104431</td>\n",
       "      <td>Home Alone 2: Lost in New York</td>\n",
       "      <td>1992-01-01</td>\n",
       "      <td>120</td>\n",
       "      <td>[Adventure, Comedy, Crime]</td>\n",
       "      <td>6.9</td>\n",
       "      <td>416350</td>\n",
       "      <td>[John Heard, Raja Gosnell, Daniel Stern, John Hughes, Devin Ratray, Hillary Wolf, Chris Columbus, John Williams, Gerry Bamman, Jane Jenkins, Janet Hirshenson, Sandy Veneziano, Macaulay Culkin, Julio Macat, Michael C. Maronna, Joe Pesci, Maureen Elisabeth Shay, Catherine O'Hara]</td>\n",
       "    </tr>\n",
       "    <tr>\n",
       "      <th>1</th>\n",
       "      <td>0.324695</td>\n",
       "      <td>102598</td>\n",
       "      <td>Only the Lonely</td>\n",
       "      <td>1991-01-01</td>\n",
       "      <td>104</td>\n",
       "      <td>[Comedy, Romance]</td>\n",
       "      <td>6.4</td>\n",
       "      <td>12669</td>\n",
       "      <td>[Raja Gosnell, Maurice Jarre, Maureen O'Hara, Hunt Lowry, John Hughes, Chris Columbus, Kevin Dunn, Jim Belushi, John Muto, Marvin J. McIntyre, Jane Jenkins, Ally Sheedy, Janet Hirshenson, John Candy, Julio Macat, Joe Greco, Milo O'Shea, Bert Remsen, Peter Teschner, Anthony Quinn]</td>\n",
       "    </tr>\n",
       "    <tr>\n",
       "      <th>2</th>\n",
       "      <td>0.214061</td>\n",
       "      <td>110527</td>\n",
       "      <td>Miracle on 34th Street</td>\n",
       "      <td>1994-01-01</td>\n",
       "      <td>114</td>\n",
       "      <td>[Drama, Family, Fantasy]</td>\n",
       "      <td>6.6</td>\n",
       "      <td>45628</td>\n",
       "      <td>[Raja Gosnell, George Seaton, Doug Kraner, John Hughes, William Windom, Bruce Broughton, Jane Leeves, Richard Attenborough, Dylan McDermott, Elizabeth Perkins, Jane Jenkins, James Remar, Janet Hirshenson, Mara Wilson, Robert Prosky, J.T. Walsh, Julio Macat, Simon Jones, Valentine Davies, Les Mayfield]</td>\n",
       "    </tr>\n",
       "    <tr>\n",
       "      <th>3</th>\n",
       "      <td>0.151786</td>\n",
       "      <td>107614</td>\n",
       "      <td>Mrs. Doubtfire</td>\n",
       "      <td>1993-01-01</td>\n",
       "      <td>125</td>\n",
       "      <td>[Comedy, Drama]</td>\n",
       "      <td>7.1</td>\n",
       "      <td>299517</td>\n",
       "      <td>[Angelo P. Graham, Raja Gosnell, Mark Radcliffe, Anne Haney, Harvey Fierstein, Leslie Dixon, Lisa Jakub, Matthew Lawrence, Donald McAlpine, Chris Columbus, Polly Holliday, Jane Jenkins, Anne Fine, Randi Mayem Singer, Janet Hirshenson, Mara Wilson, Robert Prosky, Pierce Brosnan, Sally Field, Robin Williams, Howard Shore, Marsha Garces Williams]</td>\n",
       "    </tr>\n",
       "    <tr>\n",
       "      <th>4</th>\n",
       "      <td>0.150241</td>\n",
       "      <td>241527</td>\n",
       "      <td>Harry Potter and the Sorcerer's Stone</td>\n",
       "      <td>2001-01-01</td>\n",
       "      <td>152</td>\n",
       "      <td>[Adventure, Family, Fantasy]</td>\n",
       "      <td>7.7</td>\n",
       "      <td>884416</td>\n",
       "      <td>[Richard Francis-Bruce, Rupert Grint, Fiona Shaw, Richard Griffiths, Daniel Radcliffe, Maggie Smith, Karen Lindsay-Stewart, Chris Columbus, Stuart Craig, David Heyman, Robbie Coltrane, Saunders Triplets, Susie Figgis, John Williams, Jane Jenkins, J.K. Rowling, Harry Melling, Janet Hirshenson, John Seale, Richard Harris, Emma Watson, Steve Kloves]</td>\n",
       "    </tr>\n",
       "    <tr>\n",
       "      <th>5</th>\n",
       "      <td>0.112831</td>\n",
       "      <td>107985</td>\n",
       "      <td>Rookie of the Year</td>\n",
       "      <td>1993-01-01</td>\n",
       "      <td>103</td>\n",
       "      <td>[Comedy, Family, Fantasy]</td>\n",
       "      <td>6.1</td>\n",
       "      <td>31793</td>\n",
       "      <td>[Raja Gosnell, Albert Hall, Robert Harper, Donn Cambern, Daniel Stern, Gary Busey, Linda Lowy, Jack N. Green, Steven J. Jordan, Robert Hy Gorman, Patrick LaBrecque, Eddie Bracken, Dan Hedaya, Thomas Ian Nicholas, Bruce Altman, Amy Morton, Bill Conti, Sam Harper]</td>\n",
       "    </tr>\n",
       "    <tr>\n",
       "      <th>6</th>\n",
       "      <td>0.108662</td>\n",
       "      <td>110771</td>\n",
       "      <td>The Paper</td>\n",
       "      <td>1994-01-01</td>\n",
       "      <td>112</td>\n",
       "      <td>[Comedy, Drama]</td>\n",
       "      <td>6.7</td>\n",
       "      <td>16388</td>\n",
       "      <td>[Frederick Zollo, Randy Newman, Todd Hallowell, Stephen Koepp, Ron Howard, Glenn Close, Spalding Gray, Daniel P. Hanley, Mike Hill, Randy Quaid, Jason Alexander, Marisa Tomei, Jane Jenkins, Janet Hirshenson, Jason Robards, Robert Duvall, John Seale, Michael Keaton, Lynne Thigpen, David Koepp, Brian Grazer, Catherine O'Hara]</td>\n",
       "    </tr>\n",
       "    <tr>\n",
       "      <th>7</th>\n",
       "      <td>0.106963</td>\n",
       "      <td>109190</td>\n",
       "      <td>Baby's Day Out</td>\n",
       "      <td>1994-01-01</td>\n",
       "      <td>99</td>\n",
       "      <td>[Adventure, Comedy, Crime]</td>\n",
       "      <td>6.2</td>\n",
       "      <td>57174</td>\n",
       "      <td>[Matthew Glave, John Neville, Joe Pantoliano, Joe Mantegna, Patrick Read Johnson, Doug Kraner, John Hughes, Bruce Broughton, Adam Robert Worton, Cynthia Nixon, Lara Flynn Boyle, Jane Jenkins, Richard Vane, Jacob Joseph Worton, Janet Hirshenson, Thomas E. Ackerman, David Rawlins, Fred Thompson, Brian Haley]</td>\n",
       "    </tr>\n",
       "    <tr>\n",
       "      <th>8</th>\n",
       "      <td>0.103805</td>\n",
       "      <td>986263</td>\n",
       "      <td>Surrogates</td>\n",
       "      <td>2009-01-01</td>\n",
       "      <td>89</td>\n",
       "      <td>[Action, Sci-Fi, Thriller]</td>\n",
       "      <td>6.3</td>\n",
       "      <td>181716</td>\n",
       "      <td>[Rosamund Pike, Kevin Stitt, James Francis Ginty, Jack Noseworthy, Ving Rhames, Michael Cudlitz, Boris Kodjoe, Jeff Mann, Bruce Willis, John Brancato, Devin Ratray, James Cromwell, Todd Lieberman, Oliver Wood, Jonathan Mostow, Michelle Lewitt, Brett Weldele, Max Handelman, Robert Venditti, David Hoberman, Jane Jenkins, Janet Hirshenson, Radha Mitchell, Michael Ferris, Richard Marvin]</td>\n",
       "    </tr>\n",
       "    <tr>\n",
       "      <th>9</th>\n",
       "      <td>0.102584</td>\n",
       "      <td>101786</td>\n",
       "      <td>Dutch</td>\n",
       "      <td>1991-01-01</td>\n",
       "      <td>107</td>\n",
       "      <td>[Comedy, Drama]</td>\n",
       "      <td>6.5</td>\n",
       "      <td>14768</td>\n",
       "      <td>[Ed O'Neill, Peter Faiman, L. Scott Caldwell, Kathleen Freeman, Christopher McDonald, Ethan Embry, Ari Meyers, Elizabeth Daily, Cedering Fox, John Hughes, Lisa Figus, Paul Hirsch, Stan Jolley, Alan Silvestri, Ken Kaufman, Jane Jenkins, Richard Vane, Janet Hirshenson, Charles Minsky, Adam Bernardi, JoBeth Williams]</td>\n",
       "    </tr>\n",
       "  </tbody>\n",
       "</table>\n",
       "</div>"
      ],
      "text/plain": [
       "   similarity  film_id                                  title       year  \\\n",
       "0    0.717906   104431         Home Alone 2: Lost in New York 1992-01-01   \n",
       "1    0.324695   102598                        Only the Lonely 1991-01-01   \n",
       "2    0.214061   110527                 Miracle on 34th Street 1994-01-01   \n",
       "3    0.151786   107614                         Mrs. Doubtfire 1993-01-01   \n",
       "4    0.150241   241527  Harry Potter and the Sorcerer's Stone 2001-01-01   \n",
       "5    0.112831   107985                     Rookie of the Year 1993-01-01   \n",
       "6    0.108662   110771                              The Paper 1994-01-01   \n",
       "7    0.106963   109190                         Baby's Day Out 1994-01-01   \n",
       "8    0.103805   986263                             Surrogates 2009-01-01   \n",
       "9    0.102584   101786                                  Dutch 1991-01-01   \n",
       "\n",
       "   duration                        genres  rating  vote_count  \\\n",
       "0       120    [Adventure, Comedy, Crime]     6.9      416350   \n",
       "1       104             [Comedy, Romance]     6.4       12669   \n",
       "2       114      [Drama, Family, Fantasy]     6.6       45628   \n",
       "3       125               [Comedy, Drama]     7.1      299517   \n",
       "4       152  [Adventure, Family, Fantasy]     7.7      884416   \n",
       "5       103     [Comedy, Family, Fantasy]     6.1       31793   \n",
       "6       112               [Comedy, Drama]     6.7       16388   \n",
       "7        99    [Adventure, Comedy, Crime]     6.2       57174   \n",
       "8        89    [Action, Sci-Fi, Thriller]     6.3      181716   \n",
       "9       107               [Comedy, Drama]     6.5       14768   \n",
       "\n",
       "                                                                                                                                                                                                                                                                                                                                                                                              persons  \n",
       "0                                                                                                              [John Heard, Raja Gosnell, Daniel Stern, John Hughes, Devin Ratray, Hillary Wolf, Chris Columbus, John Williams, Gerry Bamman, Jane Jenkins, Janet Hirshenson, Sandy Veneziano, Macaulay Culkin, Julio Macat, Michael C. Maronna, Joe Pesci, Maureen Elisabeth Shay, Catherine O'Hara]  \n",
       "1                                                                                                            [Raja Gosnell, Maurice Jarre, Maureen O'Hara, Hunt Lowry, John Hughes, Chris Columbus, Kevin Dunn, Jim Belushi, John Muto, Marvin J. McIntyre, Jane Jenkins, Ally Sheedy, Janet Hirshenson, John Candy, Julio Macat, Joe Greco, Milo O'Shea, Bert Remsen, Peter Teschner, Anthony Quinn]  \n",
       "2                                                                                      [Raja Gosnell, George Seaton, Doug Kraner, John Hughes, William Windom, Bruce Broughton, Jane Leeves, Richard Attenborough, Dylan McDermott, Elizabeth Perkins, Jane Jenkins, James Remar, Janet Hirshenson, Mara Wilson, Robert Prosky, J.T. Walsh, Julio Macat, Simon Jones, Valentine Davies, Les Mayfield]  \n",
       "3                                           [Angelo P. Graham, Raja Gosnell, Mark Radcliffe, Anne Haney, Harvey Fierstein, Leslie Dixon, Lisa Jakub, Matthew Lawrence, Donald McAlpine, Chris Columbus, Polly Holliday, Jane Jenkins, Anne Fine, Randi Mayem Singer, Janet Hirshenson, Mara Wilson, Robert Prosky, Pierce Brosnan, Sally Field, Robin Williams, Howard Shore, Marsha Garces Williams]  \n",
       "4                                        [Richard Francis-Bruce, Rupert Grint, Fiona Shaw, Richard Griffiths, Daniel Radcliffe, Maggie Smith, Karen Lindsay-Stewart, Chris Columbus, Stuart Craig, David Heyman, Robbie Coltrane, Saunders Triplets, Susie Figgis, John Williams, Jane Jenkins, J.K. Rowling, Harry Melling, Janet Hirshenson, John Seale, Richard Harris, Emma Watson, Steve Kloves]  \n",
       "5                                                                                                                              [Raja Gosnell, Albert Hall, Robert Harper, Donn Cambern, Daniel Stern, Gary Busey, Linda Lowy, Jack N. Green, Steven J. Jordan, Robert Hy Gorman, Patrick LaBrecque, Eddie Bracken, Dan Hedaya, Thomas Ian Nicholas, Bruce Altman, Amy Morton, Bill Conti, Sam Harper]  \n",
       "6                                                               [Frederick Zollo, Randy Newman, Todd Hallowell, Stephen Koepp, Ron Howard, Glenn Close, Spalding Gray, Daniel P. Hanley, Mike Hill, Randy Quaid, Jason Alexander, Marisa Tomei, Jane Jenkins, Janet Hirshenson, Jason Robards, Robert Duvall, John Seale, Michael Keaton, Lynne Thigpen, David Koepp, Brian Grazer, Catherine O'Hara]  \n",
       "7                                                                                 [Matthew Glave, John Neville, Joe Pantoliano, Joe Mantegna, Patrick Read Johnson, Doug Kraner, John Hughes, Bruce Broughton, Adam Robert Worton, Cynthia Nixon, Lara Flynn Boyle, Jane Jenkins, Richard Vane, Jacob Joseph Worton, Janet Hirshenson, Thomas E. Ackerman, David Rawlins, Fred Thompson, Brian Haley]  \n",
       "8  [Rosamund Pike, Kevin Stitt, James Francis Ginty, Jack Noseworthy, Ving Rhames, Michael Cudlitz, Boris Kodjoe, Jeff Mann, Bruce Willis, John Brancato, Devin Ratray, James Cromwell, Todd Lieberman, Oliver Wood, Jonathan Mostow, Michelle Lewitt, Brett Weldele, Max Handelman, Robert Venditti, David Hoberman, Jane Jenkins, Janet Hirshenson, Radha Mitchell, Michael Ferris, Richard Marvin]  \n",
       "9                                                                         [Ed O'Neill, Peter Faiman, L. Scott Caldwell, Kathleen Freeman, Christopher McDonald, Ethan Embry, Ari Meyers, Elizabeth Daily, Cedering Fox, John Hughes, Lisa Figus, Paul Hirsch, Stan Jolley, Alan Silvestri, Ken Kaufman, Jane Jenkins, Richard Vane, Janet Hirshenson, Charles Minsky, Adam Bernardi, JoBeth Williams]  "
      ]
     },
     "execution_count": 68,
     "metadata": {},
     "output_type": "execute_result"
    }
   ],
   "source": [
    "import pandas as pd\n",
    "\n",
    "pd.set_option('display.max_colwidth', None)\n",
    "display( get_film(99785) )\n",
    "\n",
    "#similar_films(88763) # \"BTTF\"\n",
    "#similar_films(990372, 0.45) # \"Detective Conan\"\n",
    "#similar_films(462699) # \"Conan the Future Boy\"\n",
    "#similar_films(1392170) # \"The Hunger Games\"\n",
    "#similar_films(78748) # \"Alien\"\n",
    "#similar_films(90605) # \"Aliens\"\n",
    "similar_films(99785) # Home Alone\n",
    "#similar_films(11286314) # \"Don't Look Up\"\n",
    "#similar_films(15410318, 0.1) # \"Amy's bucket list\"\n",
    "#similar_films(1517268, 0.05) # \"Barbie\"\n",
    "#similar_films(120915, 0.1) # Star Wars I\n",
    "#similar_films(133093, 0.2) # The Matrix\n",
    "#similar_films(6791350) # Guardians of the Galaxy 3\n",
    "#similar_films(film_id=11286314, threshold=0.1)\n",
    "#similar_films(120915, 0.97) # Star War"
   ]
  },
  {
   "cell_type": "code",
   "execution_count": 84,
   "metadata": {},
   "outputs": [],
   "source": [
    "#sc.stop()"
   ]
  }
 ],
 "metadata": {
  "kernelspec": {
   "display_name": ".venv",
   "language": "python",
   "name": "python3"
  },
  "language_info": {
   "codemirror_mode": {
    "name": "ipython",
    "version": 3
   },
   "file_extension": ".py",
   "mimetype": "text/x-python",
   "name": "python",
   "nbconvert_exporter": "python",
   "pygments_lexer": "ipython3",
   "version": "3.13.0"
  }
 },
 "nbformat": 4,
 "nbformat_minor": 2
}
