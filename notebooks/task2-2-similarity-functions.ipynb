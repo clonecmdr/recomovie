{
 "cells": [
  {
   "cell_type": "markdown",
   "metadata": {},
   "source": [
    "# Task two\n",
    "\n",
    "The client requires a function to detect similarity between films. The function will take in a\n",
    "film’s `film_id`, and a `threshold percentage` as input, and will return a `dataframe` that contains all\n",
    "films with a similarity percentage above the threshold. The way similarity is calculated is up\n",
    "to you, but the output should be sensible. \n",
    "(For example, any star wars film should be similar to all other star wars films, or films by the \n",
    "same director have a similar style etc.)\n"
   ]
  },
  {
   "cell_type": "code",
   "execution_count": 72,
   "metadata": {},
   "outputs": [],
   "source": [
    "from pyspark.sql import SparkSession\n",
    "from pyspark.sql import functions as f"
   ]
  },
  {
   "cell_type": "code",
   "execution_count": 73,
   "metadata": {},
   "outputs": [],
   "source": [
    "from pyspark.ml.feature import HashingTF, IDF\n",
    "from pyspark.ml.feature import Normalizer\n",
    "from pyspark.mllib.linalg.distributed import IndexedRow, IndexedRowMatrix"
   ]
  },
  {
   "cell_type": "code",
   "execution_count": 74,
   "metadata": {},
   "outputs": [],
   "source": [
    "spark = SparkSession.builder \\\n",
    "    .master('local[*]') \\\n",
    "    .config(\"spark.driver.memory\", \"15g\") \\\n",
    "    .appName('imdb-munging') \\\n",
    "    .getOrCreate()\n",
    "\n",
    "sc = spark.sparkContext"
   ]
  },
  {
   "cell_type": "code",
   "execution_count": 75,
   "metadata": {},
   "outputs": [],
   "source": [
    "# load the IMDb films data prepared in previous task\n",
    "input_path = \"../output/%s\"\n",
    "\n",
    "file = input_path % \"films\"\n",
    "df_film = spark.read.parquet(file)\n"
   ]
  },
  {
   "cell_type": "code",
   "execution_count": 76,
   "metadata": {},
   "outputs": [
    {
     "name": "stdout",
     "output_type": "stream",
     "text": [
      "root\n",
      " |-- film_id: integer (nullable = true)\n",
      " |-- title: string (nullable = true)\n",
      " |-- year: date (nullable = true)\n",
      " |-- duration: integer (nullable = true)\n",
      " |-- genres: array (nullable = true)\n",
      " |    |-- element: string (containsNull = true)\n",
      " |-- rating: decimal(4,2) (nullable = true)\n",
      " |-- vote_count: integer (nullable = true)\n",
      " |-- persons: array (nullable = true)\n",
      " |    |-- element: string (containsNull = true)\n",
      "\n"
     ]
    },
    {
     "data": {
      "text/plain": [
       "39427"
      ]
     },
     "execution_count": 76,
     "metadata": {},
     "output_type": "execute_result"
    }
   ],
   "source": [
    "df_film.printSchema()\n",
    "df_film.count()"
   ]
  },
  {
   "cell_type": "code",
   "execution_count": 77,
   "metadata": {},
   "outputs": [
    {
     "name": "stdout",
     "output_type": "stream",
     "text": [
      "+--------+--------------------------------------------------+----------+--------+---------------------------+------+----------+---------------------------------------------------------------------------------------------------------------------------------------------------------------------------------------------------------------------------------------------------------------------------------------------------------------------------------------------------------------------+\n",
      "|film_id |title                                             |year      |duration|genres                     |rating|vote_count|persons                                                                                                                                                                                                                                                                                                                                                              |\n",
      "+--------+--------------------------------------------------+----------+--------+---------------------------+------+----------+---------------------------------------------------------------------------------------------------------------------------------------------------------------------------------------------------------------------------------------------------------------------------------------------------------------------------------------------------------------------+\n",
      "|10545296|The Hunger Games: The Ballad of Songbirds & Snakes|2023-01-01|157     |[Action, Adventure, Drama] |6.70  |148187    |[Suzanne Collins, Michael Arndt, Dexter Sol Ansell, Hunter Schafer, Rachel Zegler, Dylan Jury, Rosa Gotzler, Nina Jacobson, Jo Willems, Clemens Schick, Viola Davis, Athena Strates, Uli Hanisch, Ashley Liao, Fionnula Flanagan, Michael Lesslie, Brad Simpson, James Newton Howard, Tom Blyth, Debra Zane, Francis Lawrence, Mark Yoshikawa]                       |\n",
      "|1951266 |The Hunger Games: Mockingjay - Part 2             |2015-01-01|137     |[Action, Adventure, Sci-Fi]|6.60  |385568    |[Suzanne Collins, Philip Seymour Hoffman, Philip Messina, Woody Harrelson, Nina Jacobson, Donald Sutherland, Jo Willems, Peter Craig, Sam Claflin, Danny Strong, Alan Edward Bell, Elizabeth Banks, Jennifer Lawrence, James Newton Howard, Willow Shields, Liam Hemsworth, Jon Kilik, Debra Zane, Francis Lawrence, Julianne Moore, Josh Hutcherson, Mark Yoshikawa]|\n",
      "|1951265 |The Hunger Games: Mockingjay - Part 1             |2014-01-01|123     |[Action, Adventure, Sci-Fi]|6.60  |515645    |[Suzanne Collins, Philip Seymour Hoffman, Philip Messina, Woody Harrelson, Nina Jacobson, Donald Sutherland, Jo Willems, Peter Craig, Sam Claflin, Danny Strong, Alan Edward Bell, Elizabeth Banks, Jennifer Lawrence, James Newton Howard, Willow Shields, Liam Hemsworth, Jon Kilik, Debra Zane, Francis Lawrence, Julianne Moore, Josh Hutcherson, Mark Yoshikawa]|\n",
      "|1951264 |The Hunger Games: Catching Fire                   |2013-01-01|146     |[Action, Adventure, Sci-Fi]|7.50  |736678    |[Suzanne Collins, Philip Seymour Hoffman, Philip Messina, Michael Arndt, Simon Beaufoy, Paula Malcomson, Woody Harrelson, Nina Jacobson, Jo Willems, Jack Quaid, Alan Edward Bell, Jennifer Lawrence, James Newton Howard, Willow Shields, Liam Hemsworth, Jon Kilik, Sandra Ellis Lafferty, Taylor St. Clair, Debra Zane, Francis Lawrence, Josh Hutcherson]        |\n",
      "|1392170 |The Hunger Games                                  |2012-01-01|142     |[Action, Adventure, Sci-Fi]|7.20  |1026001   |[Suzanne Collins, Tom Stern, Philip Messina, Christopher S. Capp, Paula Malcomson, Nina Jacobson, Billy Ray, Gary Ross, Rhoda Griffis, Wes Bentley, Elizabeth Banks, Stanley Tucci, Jennifer Lawrence, James Newton Howard, Willow Shields, Liam Hemsworth, Jon Kilik, Sandra Ellis Lafferty, Debra Zane, Juliette Welfling, Stephen Mirrione, Josh Hutcherson]      |\n",
      "+--------+--------------------------------------------------+----------+--------+---------------------------+------+----------+---------------------------------------------------------------------------------------------------------------------------------------------------------------------------------------------------------------------------------------------------------------------------------------------------------------------------------------------------------------------+\n",
      "\n"
     ]
    }
   ],
   "source": [
    "# A few sample queries\n",
    "\n",
    "#df_film.sample(withReplacement=False, fraction=0.10, seed=2).show(truncate=False).show(truncate=False)\n",
    "\n",
    "#df_film.filter( df_film.year >= '2022-01-01').filter( ~(f.array_contains( df_film['genres'], 'Documentary')) ).show(100, truncate=False)\n",
    "#df_film.filter(  f.regexp_count( f.array_join('persons', ','), f.lit(r'(?i)Spielberg') ) >= 1 ).show(100, truncate=False)a\n",
    "#df_film.filter(  f.regexp_count( f.array_join('persons', ','), f.lit(r'(?i)George Lucas') ) >= 1 ).show(100, truncate=False)\n",
    "#df_film.filter(  f.regexp_count( f.array_join('persons', ','), f.lit(r'(?i)Ridley Scott') ) >= 1 ).show(100, truncate=False)\n",
    "#df_film.filter(  f.regexp_count( f.array_join('persons', ','), f.lit(r'(?i)James Cameron') ) >= 1 ).show(100, truncate=False)\n",
    "#df_film.filter(  f.regexp_count( f.array_join('persons', ','), f.lit(r'(?i)Keanu') ) >= 1 ).show(100, truncate=False)\n",
    "#df_film.filter(  f.regexp_count( f.array_join('persons', ','), f.lit(r'(?i)Sigourney Weaver') ) >= 1 ).show(100, truncate=False)\n",
    "#df_film.filter(  f.regexp_count( f.array_join('persons', ','), f.lit(r'(?i)Jennifer Lawrence') ) >= 1 ).show(100, truncate=False)\n",
    "#df_film.filter(  f.regexp_count( f.array_join('persons', ','), f.lit(r'(?i)Dave Bautista') ) >= 1 ).show(100, truncate=False)\n",
    "#df_film.filter(  f.regexp_count( f.array_join('persons', ','), f.lit(r'(?i)Harrison Ford') ) >= 1 ).show(100, truncate=False)\n",
    "df_film.filter(  df_film['title'].rlike(r'(?i)hunger games') ).show(100, truncate=False)\n",
    "#df_film.filter(  df_film['title'].rlike(r'(?i)terminator') ).show(100, truncate=False)\n",
    "#df_film.filter(  df_film['title'].rlike(r'(?i)star wars') ).show(100, truncate=False)\n",
    "#df_film.groupBy('genres').count().sort(f.desc('count')).show(100, truncate=False)\n",
    "#df_film.count() # 39_427"
   ]
  },
  {
   "cell_type": "markdown",
   "metadata": {},
   "source": []
  },
  {
   "cell_type": "markdown",
   "metadata": {},
   "source": [
    "## stage 2"
   ]
  },
  {
   "cell_type": "code",
   "execution_count": 78,
   "metadata": {},
   "outputs": [
    {
     "data": {
      "text/plain": [
       "777224451"
      ]
     },
     "execution_count": 78,
     "metadata": {},
     "output_type": "execute_result"
    }
   ],
   "source": [
    "# Load the cosine similarity (martix dot product) data\n",
    "\n",
    "sc.setLogLevel(\"WARN\")\n",
    "\n",
    "#input_path = \"../output/%s\"\n",
    "file = input_path % \"csfilm\"\n",
    "\n",
    "#df_cos_sim = spark.read.parquet(input_path).withColumnsRenamed({'i': 'film_id', 'j': 'other_id', 'dot': 'similarity'})\n",
    "df_cos_sim = spark.read.parquet(file)\n",
    "\n",
    "df_cos_sim.count() # 777_224_451"
   ]
  },
  {
   "cell_type": "code",
   "execution_count": 79,
   "metadata": {},
   "outputs": [
    {
     "name": "stdout",
     "output_type": "stream",
     "text": [
      "root\n",
      " |-- film_id: integer (nullable = true)\n",
      " |-- other_id: integer (nullable = true)\n",
      " |-- similarity: double (nullable = true)\n",
      "\n"
     ]
    }
   ],
   "source": [
    "#df_cos_sim = df_cos_sim.withColumnsRenamed({'i': 'film_id', 'j': 'other_id', 'dot': 'similarity'})\n",
    "df_cos_sim.printSchema()"
   ]
  },
  {
   "cell_type": "code",
   "execution_count": 80,
   "metadata": {},
   "outputs": [
    {
     "name": "stdout",
     "output_type": "stream",
     "text": [
      "+--------+-------------------------------------+----------+--------+---------------------------+------+----------+----------------------------------------------------------------------------------------------------------------------------------------------------------------------------------------------------------------------------------------------------------------------------------------------------------------------------------------------------------------------------------------------------------------------------------+\n",
      "|film_id |title                                |year      |duration|genres                     |rating|vote_count|persons                                                                                                                                                                                                                                                                                                                                                                                                                           |\n",
      "+--------+-------------------------------------+----------+--------+---------------------------+------+----------+----------------------------------------------------------------------------------------------------------------------------------------------------------------------------------------------------------------------------------------------------------------------------------------------------------------------------------------------------------------------------------------------------------------------------------+\n",
      "|3385516 |X-Men: Apocalypse                    |2016-01-01|144     |[Action, Adventure, Sci-Fi]|6.80  |473392    |[Michael Dougherty, Sophie Turner, Lauren Shuler Donner, Dan Harris, Roger Mussenden, Nicholas Hoult, Oscar Isaac, Hutch Parker, Newton Thomas Sigel, Michael Fassbender, Michael Louis Hill, Simon Kinberg, Evan Peters, Jennifer Lawrence, Grant Major, Rose Byrne, Bryan Singer, Josh Helman, James McAvoy, Tye Sheridan, John Ottman]                                                                                         |\n",
      "|2446980 |Joy                                  |2015-01-01|124     |[Biography, Drama]         |6.60  |147996    |[John Davis, Robert De Niro, Jonathan Gordon, Susan Lucci, Dascha Polanco, Jay Cassidy, Ken Mok, Christopher Tellefsen, Diane Ladd, Edgar Ramírez, Virginia Madsen, Tom Cross, David O. Russell, Annie Mumolo, Mary Vernieu, Bradley Cooper, Lindsay Graham, Linus Sandgren, Megan Ellison, West Dylan Thordson, Alan Baumgarten, David Campbell, Jennifer Lawrence, Judy Becker, Elisabeth Röhm, Isabella Rossellini, Lisa Lobel]|\n",
      "|1321860 |The Beaver                           |2011-01-01|91      |[Drama]                    |6.60  |51206     |[Riley Thomas Stewart, Anton Yelchin, Lynzee Klingman, Avy Kaufman, Mark Friedberg, Keith Redmon, Jodie Foster, Jeff Corbett, Zachary Booth, Steve Golin, Sam Breslin Wright, Allison Hall, Marcelo Zarvos, Cherry Jones, Baylen Thomas, Mel Gibson, Kyle Killen, Jennifer Lawrence, Ann Ruark, Hagen Bogdanski]                                                                                                                  |\n",
      "|2800050 |A Beautiful Planet                   |2016-01-01|46      |[Documentary]              |7.30  |1500      |[Terry Virts, Toni Myers, Anton Shkaplerov, Maribeth Solomon, James Neihouse, Barry Wilmore, Scott Kelly, Jennifer Lawrence, Samantha Cristoforetti, Kjell Lindgren, Micky Erbe]                                                                                                                                                                                                                                                  |\n",
      "|1270798 |X-Men: First Class                   |2011-01-01|131     |[Action, Sci-Fi]           |7.70  |739167    |[Jane Goldman, Kevin Bacon, Ashley E. Miller, Morgan Lily, Beth Goddard, Oliver Platt, Gregory Goodman, Lauren Shuler Donner, Matthew Vaughn, Laurence Belcher, Roger Mussenden, Eddie Hamilton, Michael Fassbender, Lee Smith, Chris Seagers, Luise Eigner, Zack Stentz, John Mathieson, Simon Kinberg, Jennifer Lawrence, Bryan Singer, Lucinda Syson, Rose Byrne, James McAvoy, Henry Jackman, Bill Milner, Jeremy Rich]       |\n",
      "|2873282 |Red Sparrow                          |2018-01-01|140     |[Action, Drama, Thriller]  |6.60  |207613    |[Matthias Schoenaerts, Peter Chernin, Justin Haythe, Maria Djurkovic, Joel Edgerton, Jeremy Irons, Denise Chamian, Jo Willems, Mary-Louise Parker, Charlotte Rampling, Priscilla John, David Ready, Steven Zaillian, Alan Edward Bell, Jenno Topping, Jennifer Lawrence, James Newton Howard, Thekla Reuten, Bill Camp, Jason Matthews, Joely Richardson, Ciarán Hinds, Francis Lawrence, Zsolt Csutak]                           |\n",
      "|1951266 |The Hunger Games: Mockingjay - Part 2|2015-01-01|137     |[Action, Adventure, Sci-Fi]|6.60  |385568    |[Suzanne Collins, Philip Seymour Hoffman, Philip Messina, Woody Harrelson, Nina Jacobson, Donald Sutherland, Jo Willems, Peter Craig, Sam Claflin, Danny Strong, Alan Edward Bell, Elizabeth Banks, Jennifer Lawrence, James Newton Howard, Willow Shields, Liam Hemsworth, Jon Kilik, Debra Zane, Francis Lawrence, Julianne Moore, Josh Hutcherson, Mark Yoshikawa]                                                             |\n",
      "|1951265 |The Hunger Games: Mockingjay - Part 1|2014-01-01|123     |[Action, Adventure, Sci-Fi]|6.60  |515645    |[Suzanne Collins, Philip Seymour Hoffman, Philip Messina, Woody Harrelson, Nina Jacobson, Donald Sutherland, Jo Willems, Peter Craig, Sam Claflin, Danny Strong, Alan Edward Bell, Elizabeth Banks, Jennifer Lawrence, James Newton Howard, Willow Shields, Liam Hemsworth, Jon Kilik, Debra Zane, Francis Lawrence, Julianne Moore, Josh Hutcherson, Mark Yoshikawa]                                                             |\n",
      "|1951264 |The Hunger Games: Catching Fire      |2013-01-01|146     |[Action, Adventure, Sci-Fi]|7.50  |736678    |[Suzanne Collins, Philip Seymour Hoffman, Philip Messina, Michael Arndt, Simon Beaufoy, Paula Malcomson, Woody Harrelson, Nina Jacobson, Jo Willems, Jack Quaid, Alan Edward Bell, Jennifer Lawrence, James Newton Howard, Willow Shields, Liam Hemsworth, Jon Kilik, Sandra Ellis Lafferty, Taylor St. Clair, Debra Zane, Francis Lawrence, Josh Hutcherson]                                                                     |\n",
      "|1399683 |Winter's Bone                        |2010-01-01|100     |[Crime, Drama, Mystery]    |7.10  |152894    |[Alix Madigan, Paul Schnee, Garret Dillahunt, Dickon Hinchliffe, William White, Valerie Richards, Affonso Gonçalves, Ashlee Thompson, John Hawkes, Mark White, Shelley Waggener, Michael McDonough, Kerry Barden, Debra Granik, Jennifer Lawrence, Anne Rosellini, Lauren Sweetser, Isaiah Stone, Ramona Blair, Daniel Woodrell]                                                                                                  |\n",
      "|1392170 |The Hunger Games                     |2012-01-01|142     |[Action, Adventure, Sci-Fi]|7.20  |1026001   |[Suzanne Collins, Tom Stern, Philip Messina, Christopher S. Capp, Paula Malcomson, Nina Jacobson, Billy Ray, Gary Ross, Rhoda Griffis, Wes Bentley, Elizabeth Banks, Stanley Tucci, Jennifer Lawrence, James Newton Howard, Willow Shields, Liam Hemsworth, Jon Kilik, Sandra Ellis Lafferty, Debra Zane, Juliette Welfling, Stephen Mirrione, Josh Hutcherson]                                                                   |\n",
      "|1355644 |Passengers                           |2016-01-01|116     |[Drama, Romance, Sci-Fi]   |7.00  |464907    |[Thomas Newman, Ori Marmur, Maryann Brandon, Francine Maisler, Stephen Hamel, Vince Foster, Julee Cerda, Aurora Perrineau, Laurence Fishburne, Jon Spaihts, Neal H. Moritz, Conor Brophy, Morten Tyldum, Rodrigo Prieto, Guy Hendrix Dyas, Michael Maher, Michael Sheen, Jennifer Lawrence, Andy Garcia, Chris Pratt, Kara Flowers]                                                                                               |\n",
      "|15671028|No Hard Feelings                     |2023-01-01|103     |[Comedy, Romance]          |6.40  |181780    |[Justine Ciarrocchi, Jessica Rose Weiss, Jordan Mendoza, Ebon Moss-Bachrach, Hasan Minhaj, John Phillips, Brent White, Matthew Broderick, Gene Stupnitsky, Eigil Bryld, Naomi Odenkirk, Scott MacArthur, Laura Benanti, Rich Delia, Andrew Barth Feldman, Jennifer Lawrence, Mychael Danna, Marc Provissiero, Russell Barnes, Natalie Morales, Kyle Mooney]                                                                       |\n",
      "|11286314|Don't Look Up                        |2021-01-01|138     |[Comedy, Drama, Sci-Fi]    |7.20  |625103    |[Francine Maisler, David Sirota, Hank Corwin, Meryl Streep, Clayton Hartley, Rob Morgan, Tyler Perry, Ron Perlman, Leonardo DiCaprio, Jonah Hill, Nicholas Britell, Timothée Chalamet, Kevin J. Messick, Linus Sandgren, Mark Rylance, Jennifer Lawrence, Cate Blanchett, Adam McKay]                                                                                                                                             |\n",
      "|1758692 |Like Crazy                           |2011-01-01|86      |[Drama, Romance]           |6.60  |63704     |[Jonathan Schwartz, Anton Yelchin, Dustin O'Halloran, Felicity Jones, Alex Kingston, Oliver Muirhead, Ben York Jones, Eyde Belasco, Charlie Bewley, Finola Hughes, Drake Doremus, Katie Byron, Jennifer Lawrence, John Guleserian, Jonathan Alberts, Chris Messina, Andrea Sperling, Jamie Thomas King]                                                                                                                           |\n",
      "|1877832 |X-Men: Days of Future Past           |2014-01-01|132     |[Action, Adventure, Sci-Fi]|7.90  |761799    |[Jane Goldman, Andrea Kenyon, Patrick Stewart, Matthew Vaughn, Lauren Shuler Donner, John Myhre, Elliot Page, Roger Mussenden, Nicholas Hoult, Halle Berry, Hutch Parker, Newton Thomas Sigel, Hugh Jackman, Anna Paquin, Michael Fassbender, Randi Wells, Ian McKellen, Simon Kinberg, Jennifer Lawrence, Bryan Singer, James McAvoy, John Ottman]                                                                               |\n",
      "|10192406|Causeway                             |2022-01-01|94      |[Drama]                    |6.60  |24271     |[Justine Ciarrocchi, Jayne Houdyshell, Natalie Pilie, Lila Neugebauer, Diego García, Brian Tyree Henry, Lucian Johnston, Linda Emond, Elizabeth Sanders, Ellen Chenoweth, Luke Goebel, Alex Somers, Ottessa Moshfegh, Frederick Weller, Danny Wolohan, Robert Frazen, Han Soto, Jennifer Lawrence, Neal Huff, Jack Fisk, Sean Carvajal]                                                                                           |\n",
      "|1800241 |American Hustle                      |2013-01-01|138     |[Crime, Drama]             |7.20  |505993    |[Jack Huston, Eric Warren Singer, Jonathan Gordon, Jay Cassidy, Christian Bale, David O. Russell, Michael Peña, Mary Vernieu, Bradley Cooper, Lindsay Graham, Linus Sandgren, Megan Ellison, Richard Suckle, Alan Baumgarten, Crispin Struthers, Jennifer Lawrence, Danny Elfman, Judy Becker, Shea Whigham, Louis C.K., Charles Roven, Jeremy Renner, Alessandro Nivola, Amy Adams]                                              |\n",
      "|1045658 |Silver Linings Playbook              |2012-01-01|122     |[Comedy, Drama, Romance]   |7.70  |752629    |[Robert De Niro, Jonathan Gordon, Jay Cassidy, Matthew Quick, Masanobu Takayanagi, David O. Russell, Chris Tucker, Mary Vernieu, Bradley Cooper, Lindsay Graham, Julia Stiles, Paul Herman, Donna Gigliotti, Crispin Struthers, Jennifer Lawrence, Anupam Kher, Danny Elfman, Judy Becker, Bruce Cohen, Shea Whigham, John Ortiz, Jacki Weaver]                                                                                   |\n",
      "|1014806 |The Poker House                      |2008-01-01|93      |[Drama]                    |6.30  |5980      |[Javon Johnson, David Alan Grier, Kymberly Mellen, Casey Tutton, Stephen J. Cannell, Venus Kanani, Tirsa Hackshaw, Robert Gerdisch, Mary Vernieu, Chloë Grace Moretz, Sophi Bairley, Bokeem Woodbine, Lisa Wolff, Jennifer Lawrence, Claire Simon, Mike Post, Matthew Gerdisch, Lori Petty, Ken Seng, Lucas Ellman, Michael Dubelko]                                                                                              |\n",
      "+--------+-------------------------------------+----------+--------+---------------------------+------+----------+----------------------------------------------------------------------------------------------------------------------------------------------------------------------------------------------------------------------------------------------------------------------------------------------------------------------------------------------------------------------------------------------------------------------------------+\n",
      "only showing top 20 rows\n",
      "\n"
     ]
    }
   ],
   "source": [
    "# Search for a film id, then use the get_similar_films() below\n",
    "\n",
    "#df_film.show(30, truncate=False)\n",
    "#df_film.sample(withReplacement=False, fraction=0.10, seed=47).show(truncate=False)\n",
    "#df_film.filter(  f.regexp_count( f.array_join('persons', ','), f.lit(r'(?i)Dave\\sBautista') ) >= 1 ).show(20, False)\n",
    "df_film.filter(  f.regexp_count( f.array_join('persons', ','), f.lit(r'(?i)Jennifer Lawrence') ) >= 1 ).show(20, False)\n",
    "#df_film.filter(  df_film['title'].rlike(r'(?i)Conan.*') ).sort(f.desc('rating')).show(20, False) \n",
    "#df_film.filter(  df_film['title'].rlike(r'(?i)Hunger.*') ).sort(f.desc('rating')).show(20, False) \n",
    "#df_film.filter(f.col('film_id') == \"133093\").show(truncate=False)"
   ]
  },
  {
   "cell_type": "markdown",
   "metadata": {},
   "source": [
    "## Function to detect similarities between films"
   ]
  },
  {
   "cell_type": "code",
   "execution_count": 81,
   "metadata": {},
   "outputs": [],
   "source": [
    "# Function to detect similarities between films\n",
    "from pyspark.sql import DataFrame\n"
   ]
  },
  {
   "cell_type": "code",
   "execution_count": 82,
   "metadata": {},
   "outputs": [],
   "source": [
    "def get_similar_films(film_id:int, threshold:float=0.1) -> DataFrame:\n",
    "    #df_film.filter(f.col('film_id') == film_id).show(truncate=False)\n",
    "    df_rec = df_cos_sim.alias('reco')\\\n",
    "            .filter( (f.col('reco.film_id') == film_id) & (f.col('reco.similarity') >= threshold))\\\n",
    "            .join(df_film.alias('films'), f.col('reco.other_id') == f.col('films.film_id'), how='left')\\\n",
    "            .sort(f.desc('reco.similarity'))\\\n",
    "            .limit(10)\\\n",
    "            .show(truncate=False)\n",
    "\n",
    "    return df_rec"
   ]
  },
  {
   "cell_type": "code",
   "execution_count": 83,
   "metadata": {},
   "outputs": [
    {
     "name": "stdout",
     "output_type": "stream",
     "text": [
      "+-------+--------+-------------------+--------+--------------------------------------------------+----------+--------+---------------------------+------+----------+----------------------------------------------------------------------------------------------------------------------------------------------------------------------------------------------------------------------------------------------------------------------------------------------------------------------------------------------------------------------------+\n",
      "|film_id|other_id|similarity         |film_id |title                                             |year      |duration|genres                     |rating|vote_count|persons                                                                                                                                                                                                                                                                                                                                                                     |\n",
      "+-------+--------+-------------------+--------+--------------------------------------------------+----------+--------+---------------------------+------+----------+----------------------------------------------------------------------------------------------------------------------------------------------------------------------------------------------------------------------------------------------------------------------------------------------------------------------------------------------------------------------------+\n",
      "|1392170|1951264 |0.5210828126920726 |1951264 |The Hunger Games: Catching Fire                   |2013-01-01|146     |[Action, Adventure, Sci-Fi]|7.50  |736678    |[Suzanne Collins, Philip Seymour Hoffman, Philip Messina, Michael Arndt, Simon Beaufoy, Paula Malcomson, Woody Harrelson, Nina Jacobson, Jo Willems, Jack Quaid, Alan Edward Bell, Jennifer Lawrence, James Newton Howard, Willow Shields, Liam Hemsworth, Jon Kilik, Sandra Ellis Lafferty, Taylor St. Clair, Debra Zane, Francis Lawrence, Josh Hutcherson]               |\n",
      "|1392170|1951265 |0.46292685649129384|1951265 |The Hunger Games: Mockingjay - Part 1             |2014-01-01|123     |[Action, Adventure, Sci-Fi]|6.60  |515645    |[Suzanne Collins, Philip Seymour Hoffman, Philip Messina, Woody Harrelson, Nina Jacobson, Donald Sutherland, Jo Willems, Peter Craig, Sam Claflin, Danny Strong, Alan Edward Bell, Elizabeth Banks, Jennifer Lawrence, James Newton Howard, Willow Shields, Liam Hemsworth, Jon Kilik, Debra Zane, Francis Lawrence, Julianne Moore, Josh Hutcherson, Mark Yoshikawa]       |\n",
      "|1392170|1951266 |0.46082641877323016|1951266 |The Hunger Games: Mockingjay - Part 2             |2015-01-01|137     |[Action, Adventure, Sci-Fi]|6.60  |385568    |[Suzanne Collins, Philip Seymour Hoffman, Philip Messina, Woody Harrelson, Nina Jacobson, Donald Sutherland, Jo Willems, Peter Craig, Sam Claflin, Danny Strong, Alan Edward Bell, Elizabeth Banks, Jennifer Lawrence, James Newton Howard, Willow Shields, Liam Hemsworth, Jon Kilik, Debra Zane, Francis Lawrence, Julianne Moore, Josh Hutcherson, Mark Yoshikawa]       |\n",
      "|1392170|10545296|0.144563173303658  |10545296|The Hunger Games: The Ballad of Songbirds & Snakes|2023-01-01|157     |[Action, Adventure, Drama] |6.70  |148187    |[Suzanne Collins, Michael Arndt, Dexter Sol Ansell, Hunter Schafer, Rachel Zegler, Dylan Jury, Rosa Gotzler, Nina Jacobson, Jo Willems, Clemens Schick, Viola Davis, Athena Strates, Uli Hanisch, Ashley Liao, Fionnula Flanagan, Michael Lesslie, Brad Simpson, James Newton Howard, Tom Blyth, Debra Zane, Francis Lawrence, Mark Yoshikawa]                              |\n",
      "|1392170|5164214 |0.1098611766438215 |5164214 |Ocean's Eight                                     |2018-01-01|110     |[Action, Comedy, Crime]    |6.30  |248386    |[Jack Golden Russell, Daniel Pemberton, Steven Soderbergh, Olivia Milch, Brian J. Carter, Daniella Rabbani, George Clayton Johnson, Eigil Bryld, Gary Ross, Griffin Dunne, Susan Ekins, Sandra Bullock, Deidre Goodwin, Katherine Hozier-Adams, Mindy Kaling, Alex DiGerlando, Shayna Markowitz, Cate Blanchett, Gemma Forbes, Juliette Welfling, Debra Zane, Anne Hathaway]|\n",
      "+-------+--------+-------------------+--------+--------------------------------------------------+----------+--------+---------------------------+------+----------+----------------------------------------------------------------------------------------------------------------------------------------------------------------------------------------------------------------------------------------------------------------------------------------------------------------------------------------------------------------------------+\n",
      "\n"
     ]
    }
   ],
   "source": [
    "#get_similar_films(88763) # \"BTTF\"\n",
    "#get_similar_films(990372, 0.45) # \"Detective Conan\"\n",
    "#get_similar_films(462699) # \"Conan the Future Boy\"\n",
    "get_similar_films(1392170) # \"The Hunger Games\"\n",
    "#get_similar_films(99785) # Home Alone\n",
    "#get_similar_films(11286314) # \"Don't Look Up\"\n",
    "#get_similar_films(15410318, 0.1) # \"Amy's bucket list\"\n",
    "#get_similar_films(1517268, 0.05) # \"Barbie\"\n",
    "#get_similar_films(120915, 0.1) # Star Wars I\n",
    "#get_similar_films(133093, 0.2) # The Matrix\n",
    "#get_similar_films(6791350) # Guardians of the Galaxy 3\n",
    "#get_similar_films(film_id=11286314, threshold=0.1)\n",
    "\n",
    "#get_similar_films(120915, 0.97) # Star Wars I"
   ]
  },
  {
   "cell_type": "code",
   "execution_count": 84,
   "metadata": {},
   "outputs": [],
   "source": [
    "#sc.stop()"
   ]
  }
 ],
 "metadata": {
  "kernelspec": {
   "display_name": ".venv",
   "language": "python",
   "name": "python3"
  },
  "language_info": {
   "codemirror_mode": {
    "name": "ipython",
    "version": 3
   },
   "file_extension": ".py",
   "mimetype": "text/x-python",
   "name": "python",
   "nbconvert_exporter": "python",
   "pygments_lexer": "ipython3",
   "version": "3.13.0"
  }
 },
 "nbformat": 4,
 "nbformat_minor": 2
}
