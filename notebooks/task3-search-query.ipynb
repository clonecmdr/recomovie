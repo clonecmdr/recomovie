{
 "cells": [
  {
   "cell_type": "markdown",
   "metadata": {},
   "source": [
    "## Task three\n",
    "\n",
    "The client requires functionality to allow users to query their dataset. \n",
    "\n",
    "The user should be able to use any number of columns, \n",
    "alongside a range of values for each column to filter films. \n",
    "\n",
    "For example, the user may want to find all films by Quentin Tarantino or George Lucas\n",
    "that were released between 1979 and 2000. \n",
    "\n",
    "The user should be able to use a variety of querying methods, such as between a range of values, or from a set of specific values, where appropriate. \n",
    "\n",
    "The dataset that should be used is your output from Task one, and the system you build should be flexible and reusable. \n",
    "\n",
    "You must build just the backend for this functionality. You should create some suitable test cases to demonstrate this unctionality is working as intended."
   ]
  },
  {
   "cell_type": "code",
   "execution_count": 1,
   "metadata": {},
   "outputs": [],
   "source": [
    "import pyspark.sql\n",
    "from pyspark.sql import SparkSession\n",
    "from pyspark.sql import functions as f\n",
    "from pyspark.sql.types import DoubleType"
   ]
  },
  {
   "cell_type": "code",
   "execution_count": 2,
   "metadata": {},
   "outputs": [],
   "source": [
    "from pyspark.ml.feature import HashingTF, IDF\n",
    "from pyspark.ml.feature import Normalizer\n",
    "from pyspark.mllib.linalg.distributed import IndexedRow, IndexedRowMatrix"
   ]
  },
  {
   "cell_type": "code",
   "execution_count": 3,
   "metadata": {},
   "outputs": [
    {
     "name": "stderr",
     "output_type": "stream",
     "text": [
      "Setting default log level to \"WARN\".\n",
      "To adjust logging level use sc.setLogLevel(newLevel). For SparkR, use setLogLevel(newLevel).\n",
      "24/12/22 13:34:20 WARN NativeCodeLoader: Unable to load native-hadoop library for your platform... using builtin-java classes where applicable\n",
      "24/12/22 13:34:20 WARN Utils: Service 'SparkUI' could not bind on port 4040. Attempting port 4041.\n"
     ]
    }
   ],
   "source": [
    "spark = SparkSession.builder \\\n",
    "    .master('local[*]') \\\n",
    "    .config(\"spark.driver.memory\", \"15g\") \\\n",
    "    .appName('imdb-munging') \\\n",
    "    .getOrCreate()\n",
    "\n",
    "sc = spark.sparkContext"
   ]
  },
  {
   "cell_type": "code",
   "execution_count": 4,
   "metadata": {},
   "outputs": [],
   "source": [
    "# load the IMDb films data prepared in previous task\n",
    "input_path = \"../output/films\"\n",
    "df_film = spark.read.parquet(input_path)\n"
   ]
  },
  {
   "cell_type": "code",
   "execution_count": 5,
   "metadata": {},
   "outputs": [
    {
     "name": "stdout",
     "output_type": "stream",
     "text": [
      "root\n",
      " |-- film_id: integer (nullable = true)\n",
      " |-- title: string (nullable = true)\n",
      " |-- year: date (nullable = true)\n",
      " |-- duration: integer (nullable = true)\n",
      " |-- genres: array (nullable = true)\n",
      " |    |-- element: string (containsNull = true)\n",
      " |-- rating: decimal(4,2) (nullable = true)\n",
      " |-- vote_count: integer (nullable = true)\n",
      " |-- persons: array (nullable = true)\n",
      " |    |-- element: string (containsNull = true)\n",
      "\n"
     ]
    }
   ],
   "source": [
    "df_film.printSchema()"
   ]
  },
  {
   "cell_type": "code",
   "execution_count": 6,
   "metadata": {},
   "outputs": [
    {
     "data": {
      "text/plain": [
       "39427"
      ]
     },
     "execution_count": 6,
     "metadata": {},
     "output_type": "execute_result"
    }
   ],
   "source": [
    "# reduce the row count... some filtering\n",
    "#df.sample(withReplacement=False, fraction=0.10, seed=2).show(truncate=False)\n",
    "#df = df.filter( df.year >= '2020-01-01')\\\n",
    "#  .filter(~(f.array_contains( df['genres'], 'Documentary')) )\n",
    "\n",
    "df_film.count()"
   ]
  },
  {
   "cell_type": "markdown",
   "metadata": {},
   "source": [
    "search by:\n",
    "- title\n",
    "- year (range)\n",
    "- genres\n",
    "- persons (any actor, direct, producer)\n"
   ]
  },
  {
   "cell_type": "code",
   "execution_count": null,
   "metadata": {},
   "outputs": [],
   "source": []
  },
  {
   "cell_type": "code",
   "execution_count": 7,
   "metadata": {},
   "outputs": [
    {
     "name": "stderr",
     "output_type": "stream",
     "text": [
      "                                                                                \r"
     ]
    },
    {
     "name": "stdout",
     "output_type": "stream",
     "text": [
      "+------------------------------+-----+\n",
      "|genres                        |count|\n",
      "+------------------------------+-----+\n",
      "|[Drama]                       |4829 |\n",
      "|[Comedy, Drama]               |2153 |\n",
      "|[Drama, Romance]              |1981 |\n",
      "|[Comedy]                      |1719 |\n",
      "|[Comedy, Drama, Romance]      |1542 |\n",
      "|[Documentary]                 |1469 |\n",
      "|[Comedy, Romance]             |972  |\n",
      "|[Action, Crime, Drama]        |742  |\n",
      "|[Crime, Drama]                |639  |\n",
      "|[Crime, Drama, Thriller]      |615  |\n",
      "|[Drama, Thriller]             |576  |\n",
      "|[Crime, Drama, Mystery]       |505  |\n",
      "|[Biography, Drama, History]   |418  |\n",
      "|[Drama, War]                  |403  |\n",
      "|[Comedy, Crime, Drama]        |376  |\n",
      "|[Crime, Drama, Film-Noir]     |356  |\n",
      "|[Action, Adventure, Animation]|331  |\n",
      "|[Action, Adventure, Drama]    |322  |\n",
      "|[Action, Comedy, Crime]       |316  |\n",
      "|[Adventure, Animation, Comedy]|315  |\n",
      "+------------------------------+-----+\n",
      "only showing top 20 rows\n",
      "\n",
      "['title', 'year', 'duration', 'genres', 'rating', 'vote_count', 'persons']\n"
     ]
    }
   ],
   "source": [
    "# get a list of valid genres\n",
    "\n",
    "df_film.groupBy('genres').count().sort(f.desc('count')).show(truncate=False)\n",
    "\n",
    "feature_cols = [c for c in df_film.columns if c != 'film_id']\n",
    "print(feature_cols)\n"
   ]
  },
  {
   "cell_type": "code",
   "execution_count": 33,
   "metadata": {},
   "outputs": [
    {
     "name": "stdout",
     "output_type": "stream",
     "text": [
      "+--------+---------------------------------+----------+--------+------------------------------+------+----------+-----------------------------------------------------------------------------------------------------------------------------------------------------------------------------------------------------------------------------------------------------------------------------------------------------------------------------------------------------------------------------------------------------------------------------+\n",
      "|film_id |title                            |year      |duration|genres                        |rating|vote_count|persons                                                                                                                                                                                                                                                                                                                                                                                                                      |\n",
      "+--------+---------------------------------+----------+--------+------------------------------+------+----------+-----------------------------------------------------------------------------------------------------------------------------------------------------------------------------------------------------------------------------------------------------------------------------------------------------------------------------------------------------------------------------------------------------------------------------+\n",
      "|107426  |Little Buddha                    |1993-01-01|123     |[Drama]                       |6.10  |18341     |[Fabrizio Sergenti Castellani, Ruocheng Ying, Rudy Wurlitzer, Jeremy Thomas, Raju Lal, Ryuichi Sakamoto, Greishma Makar Singh, Mark Peploe, Sogyal Rinpoche, Bernardo Bertolucci, Pietro Scalia, Alex Wiesendanger, Chris Isaak, Priscilla John, Ven. Geshe Tsultim Gyelsen, Bridget Fonda, James Acheson, Howard Feuer, Keanu Reeves, Ven. Khyongla Rato Rinpoche, Vittorio Storaro]                                        |\n",
      "|21116308|Keramat 2: Caruban Larang        |2022-01-01|94      |[Horror]                      |6.10  |712       |[Arla Ailani, Umay Shahab, Monty Tiwa, Lutesha, Azzam Fi Rullah, Cesa David Luckmansyah, Chand Parwez Servia, Fiaz Servia, Jimmy Fajar, Sumarsono, Josephine Firmstone, Badriyah Afiff, Maura Gabrielle, Rosmala Sari Dewi, Nuni Nuchman, Ajil Ditto, Arief Hafidz, Sergius Susanto, Elly D. Luthan, Keanu AGL]                                                                                                              |\n",
      "|2016940 |Man of Tai Chi                   |2013-01-01|105     |[Action, Drama]               |6.00  |41447     |[Yasuyuki Hirata, Derek Hui, Qing Ye, Sam Lee, Michael Tong, Julius Brian Siswojo, Elliot Davis, Lemore Syvan, PoPing AuYeung, Hai Yu, Daxing Zhang, Simon Yam, Yôhei Taneda, Noah Weinzweig, Hu Chen, Michael G. Cooney, Comfort Kwong-Wing Chan, Keanu Reeves, Karen Mok]                                                                                                                                                  |\n",
      "|96928   |Bill & Ted's Excellent Adventure |1989-01-01|90      |[Adventure, Comedy, Music]    |6.90  |144268    |[Dan Shor, David Newman, Scott Kroopf, Stephen Herek, Roy Forge Smith, Larry Bock, Ed Solomon, Stanzi Stokes, Tony Steedman, Al Leong, Alex Winter, Terry Camilleri, George Carlin, Chris Matheson, Rod Loomis, Joel Soisson, Patrick Rand, Jane Wiedlin, Michael S. Murphey, Robert V. Barron, Keanu Reeves, Tim Suhrstedt]                                                                                                 |\n",
      "|1979376 |Toy Story 4                      |2019-01-01|100     |[Adventure, Animation, Comedy]|7.60  |290823    |[Randy Newman, Andrew Stanton, Bob Pauley, John Lasseter, Jonas Rivera, Tony Hale, Josh Cooley, Madeleine McGraw, Tom Hanks, Galyn Susman, Jordan Peele, Tim Allen, Annie Potts, Valerie LaPointe, Christina Hendricks, Ally Maki, Patrick Lin, Keegan-Michael Key, Natalie Lyon, Axel Geddes, Jean-Claude Kalache, Mark Nielsen, Kevin Reher, Keanu Reeves]                                                                 |\n",
      "|101452  |Bill & Ted's Bogus Journey       |1991-01-01|93      |[Adventure, Comedy, Fantasy]  |6.30  |82327     |[Amy Stoch, Annette Azcuy, David Newman, Jim Martin, Scott Kroopf, William Sadler, Ed Solomon, Hal Landon Jr., Alex Winter, Joss Ackland, George Carlin, Oliver Wood, Chris Matheson, Pam Grier, David L. Snyder, Karen Rea, David Finfer, Keanu Reeves, Peter Hewitt]                                                                                                                                                       |\n",
      "|103874  |Bram Stoker's Dracula            |1992-01-01|128     |[Fantasy, Horror, Romance]    |7.40  |248450    |[Francis Ford Coppola, Billy Campbell, Richard E. Grant, Anne Goursaud, Anthony Hopkins, Fred Fuchs, Cary Elwes, Monica Bellucci, Glen Scantlebury, Charles Mulvehill, Nicholas C. Smith, Thomas E. Sanders, James V. Hart, Michael Ballhaus, Victoria Thomas, Tom Waits, Gary Oldman, Wojciech Kilar, Keanu Reeves, Winona Ryder, Sadie Frost, Bram Stoker]                                                                 |\n",
      "|3503406 |The Whole Truth                  |2016-01-01|93      |[Crime, Drama, Mystery]       |6.20  |34647     |[Sacha Galperine, Nicole Barré, Anthony Bregman, Ritchie Montgomery, Nicholas Kazan, Raj Brinder Singh, Kate Williams, Mara LePere-Schloop, Mary Vernieu, Lara Grice, Jim Belushi, Elon Dershowitz, Lindsay Graham, Evgueni Galperine, Courtney Hunt, Jules O'Loughlin, Jim Klock, Renée Zellweger, Christopher Berry, Gugu Mbatha-Raw, Gabriel Basso, Keanu Reeves, Kevin Scott Frakes]                                     |\n",
      "|165196  |Molokai                          |1999-01-01|113     |[Biography, Drama]            |6.90  |1492      |[Tarsicius Vanhuysse, Paul Grabowsky, Paul Cox, Chris Haywood, Ludo Troch, John Briley, Patsy Pollock, Kris Kristofferson, Grietje Lammertyn, Jan Petitjean, Keanu Kapuni-Szasz, Nino Gaetano Martinetti, David Wenham, Peter O'Toole, Kate Ceberano, Leo McKern, Alice Krige, Derek Jacobi, John Scott, Jan Decleir, Hilde Eynikel, Kristina Hamilton-Grobler]                                                              |\n",
      "|219699  |The Gift                         |2000-01-01|111     |[Drama, Fantasy, Horror]      |6.70  |76605     |[James Jacks, Bob Murawski, Arthur Coburn, Kim Dickens, Neil Spisak, Tom Rosenberg, Giovanni Ribisi, Christopher Young, Sam Raimi, Tom Epperson, Jamie Anderson, Greg Kinnear, Gary Lucchesi, Gary Cole, Deborah Aquila, Cate Blanchett, Hilary Swank, Keanu Reeves, Rosemary Harris, Billy Bob Thornton, Michael Jeter, Katie Holmes]                                                                                       |\n",
      "|114887  |A Walk in the Clouds             |1995-01-01|102     |[Drama, Romance]              |6.70  |37339     |[Jerry Zucker, Maurice Jarre, Debra Messing, Christine Sheaks, Angélica Aragón, John S. Lyons, Mark Miller, Aitana Sánchez-Gijón, Freddy Rodríguez, Roberto Huerta, Giancarlo Giannini, Melissa M. Thomas, Emmanuel Lubezki, Harvey Weitzman, Piero Tellini, Alfonso Arau, Evangelina Elizondo, David Zucker, David Gropman, Don Zimmerman, Robert Mark Kamen, Keanu Reeves, Gil Netter, Febronio Covarrubias, Anthony Quinn]|\n",
      "|95853   |Permanent Record                 |1988-01-01|91      |[Drama, Music, Romance]       |6.40  |2347      |[Pamela Gidley, Phil Diskin, Frederick Elmes, Alice Liddle, Michael Elgart, Michel Levesque, Marisa Silver, Frank Mancuso Jr., Joe Strummer, Jarre Fees, Robert Brown, Garrett Lambert, Michelle Meyrink, Alan Boyce, Larry Ketron, Keanu Reeves, Amanda Mackey, Lou Reed, Jennifer Rubin, Richard Bradford]                                                                                                                 |\n",
      "|337741  |Something's Gotta Give           |2003-01-01|128     |[Comedy, Drama, Romance]      |6.70  |131475    |[Paul Michael Glaser, Amanda Peet, Diane Keaton, Jack Nicholson, Paige Butcher, Rachel Ticotin, Hans Zimmer, Nancy Meyers, Frances McDormand, Joe Hutshing, Jane Jenkins, Michael Ballhaus, Janet Hirshenson, Bruce A. Block, Jon Favreau, Tanya Sweet, Jon Hutman, Keanu Reeves]                                                                                                                                            |\n",
      "|180734  |Hardball                         |2001-01-01|106     |[Comedy, Drama, Sport]        |6.40  |33972     |[Diane Lane, Tom Richmond, Kris D. Lofton, John Hawkes, Brian M. Reed, John Gatins, Tina Nides, Marci Liroff, Bryan Hearne, Michael Tollin, Brian Robbins, Jaymes Hinkle, Michael B. Jordan, Daniel Coyle, Keanu Reeves, Mark Isham, A. Delon Ellis Jr., Michael Perkins, Ned Bastille, Julian Griffith]                                                                                                                     |\n",
      "|318761  |Thumbsucker                      |2005-01-01|96      |[Comedy, Drama]               |6.50  |22170     |[Angus Wall, Haines Hall, Jeanne McCarthy, Mike Mills, Anthony Bregman, Walter Kirn, Vincent D'Onofrio, Benjamin Bratt, Bob Stephenson, Joaquín Baca-Asay, Tilda Swinton, Tim DeLaughter, Judy Becker, Allen Go, Keanu Reeves, Tyler Gannon, Kelli Garner, Arvin V. Entena, Ted Beckman, Lou Taylor Pucci]                                                                                                                   |\n",
      "|99819   |I Love You to Death              |1990-01-01|97      |[Comedy, Crime]               |6.40  |15888     |[Jeffrey Lurie, Joan Plowright, Lilly Kilvert, Ron Moler, Tracey Ullman, James Horner, Owen Roizman, River Phoenix, Lawrence Kasdan, Anne V. Coates, Victoria Jackson, John Kostmayer, Jack Kehler, William Hurt, Kevin Kline, James Gammon, Keanu Reeves, Miriam Margolyes]                                                                                                                                                 |\n",
      "|234215  |The Matrix Reloaded              |2003-01-01|138     |[Action, Sci-Fi]              |7.20  |643675    |[Shauna Wolifson, Bill Pope, Alima Ashton-Sheibu, Christine Anu, Andy Arness, Zach Staenberg, Steve Bastoni, Laurence Fishburne, Carrie-Anne Moss, Hugo Weaving, Mali Finn, Don Davis, Lilly Wachowski, Owen Paterson, Ray Anthony, Joel Silver, Lana Wachowski, Keanu Reeves, Helmut Bakaitis]                                                                                                                              |\n",
      "|6987770 |Destination Wedding              |2018-01-01|87      |[Comedy, Drama, Romance]      |6.00  |34348     |[Pam Dixon, Donna Lynn Jones, D. Rosh Wright, Robert Jones, Gail Lyon, Callie Andreadis, Paul Joseph Smith, Victor Levin, William Ross, Ted Dubost, Scott Andrews, DJ Dallenbach, Giorgio Scali, Elizabeth Dell, Greg Lucey, Curt Dubost, Winona Ryder, Keanu Reeves, Matt Maddox, Michael Mogull]                                                                                                                           |\n",
      "|191397  |The Replacements                 |2000-01-01|118     |[Comedy, Sport]               |6.60  |70837     |[Tak Fujimoto, Ace Yonamine, Michael Taliferro, John Debney, Troy Winbush, Bud S. Smith, Dylan Sellers, Vince McKewin, Brooke Langton, Seth Flaum, Mary Gail Artz, David Denman, Barbara Cohen, Dan Bishop, Faizon Love, Orlando Jones, Gene Hackman, Jon Favreau, Keanu Reeves, Howard Deutch]                                                                                                                              |\n",
      "|107616  |Much Ado About Nothing           |1993-01-01|111     |[Comedy, Drama, Romance]      |7.30  |53119     |[Tim Harvey, Emma Thompson, Patrick Doyle, William Shakespeare, Kate Beckinsale, Stephen Evans, Kenneth Branagh, Roger Lanser, Richard Briers, David Parfitt, Brian Blessed, Andy Hockley, Chris Barnes, Imelda Staunton, Jimmy Yuill, Keanu Reeves, Andrew Marcus]                                                                                                                                                          |\n",
      "|1335975 |47 Ronin                         |2013-01-01|128     |[Action, Drama, Fantasy]      |6.20  |173894    |[Masayoshi Haneda, Eric McLeod, Hiroshi Yamada, Carl Rinsch, Tadanobu Asano, Hiroyuki Sanada, Ilan Eshkeri, Denise Chamian, Takato Yonemoto, Walter Hamada, Kô Shibasaki, Jan Roelfs, Pamela Abdy, Travis Hancock, Priscilla John, Hiroshi Sogabe, Stuart Baird, John Mathieson, Chris Morgan, Ania O'Hare, Jin Akanishi, Min Tanaka, Keanu Reeves, Hossein Amini]                                                           |\n",
      "|360486  |Constantine                      |2005-01-01|121     |[Action, Fantasy, Horror]     |7.00  |384992    |[Peter Stormare, Jamie Delano, Brian Tyler, Lauren Shuler Donner, Denise Chamian, Kevin Brodbin, Naomi Shohan, Djimon Hounsou, Shia LaBeouf, Philippe Rousselot, Klaus Badelt, Akiva Goldsman, Max Baker, Lorenzo di Bonaventura, Rachel Weisz, Benjamin Melniker, Tilda Swinton, Garth Ennis, Frank A. Cappello, Pruitt Taylor Vince, Jesse Ramirez, Wayne Wahrman, Keanu Reeves, Francis Lawrence, Gavin Rossdale]         |\n",
      "|410297  |The Lake House                   |2006-01-01|99      |[Drama, Fantasy, Romance]     |6.80  |159988    |[Alejandro Agresti, Roy Lee, Eun-Jeong Kim, Ebon Moss-Bachrach, Lynzee Klingman, Shohreh Aghdashloo, David Auburn, Lynn Collins, Rachel Portman, Christopher Plummer, Nathan Crowley, Ji Na Yeo, Kevin M. Brennan, Sandra Bullock, Alar Kivilo, Doug Davison, Willeke van Ammelrooy, Dylan Walsh, Alejandro Brodersohn, Mike Bacarella, Keanu Reeves]                                                                        |\n",
      "|2911666 |John Wick                        |2014-01-01|101     |[Action, Crime, Thriller]     |7.40  |762750    |[Basil Iwanyk, Alfie Allen, Adrianne Palicki, Michael Nyqvist, Mike Witherill, Omer Barnea, Willem Dafoe, Suzanne Crowley, Tyler Bates, Jonathan Sela, Chad Stahelski, Eva Longoria, Dean Winters, Elísabet Ronaldsdóttir, Derek Kolstad, Bridget Moynahan, David Leitch, Toby Leonard Moore, Dan Leigh, Joel J. Richard, Keanu Reeves, Jessica Kelly, Daniel Bernhardt]                                                     |\n",
      "|421073  |Street Kings                     |2008-01-01|109     |[Action, Crime, Thriller]     |6.80  |122755    |[Gabriel Beristain, Chris Evans, Graeme Revell, Alexandra Milchan, The Game, Erwin Stoff, Kurt Wimmer, Common, Hugh Laurie, Mary Vernieu, Jeffrey Ford, James Ellroy, Terry Crews, David Ayer, Forest Whitaker, Alec Hammond, Jamie Moss, Cedric The Entertainer, Keanu Reeves, Jay Mohr, Lucas Foster, Naomie Harris]                                                                                                       |\n",
      "|230838  |Sweet November                   |2001-01-01|119     |[Drama, Romance]              |6.70  |96057     |[Steven Reuther, Frank Langella, Sarah Trevis, Lauren Graham, Jason Isaacs, Liam Aiken, Erwin Stoff, Kurt Voelker, Naomi Shohan, Elliott Kastner, Christopher Young, Paul Yurick, Greg Germann, Anne V. Coates, Jason Kravits, Randi Hiller, Michael Rosenbaum, Charlize Theron, Edward Lachman, Pat O'Connor, Risa Bramon Garcia, Herman Raucher, Keanu Reeves, Deborah Stoff, Robert Joy]                                  |\n",
      "|91860   |River's Edge                     |1986-01-01|99      |[Crime, Drama]                |6.90  |21535     |[Ione Skye, Neal Jimenez, Joshua John Miller, Crispin Glover, Howard E. Smith, Jürgen Knieper, Josh Richman, Tim Hunter, Frederick Elmes, Phillip Brock, Carrie Frazier, John Muto, Dennis Hopper, Sonya Sones, Tom Bower, Daniel Roebuck, Midge Sanford, Roxana Zal, Keanu Reeves, Sarah Pillsbury]                                                                                                                         |\n",
      "|98067   |Parenthood                       |1989-01-01|124     |[Comedy, Drama]               |7.10  |56227     |[Lowell Ganz, Randy Newman, Todd Hallowell, Harley Jane Kozak, Ron Howard, Daniel P. Hanley, Mike Hill, Donald McAlpine, Steve Martin, Martha Plimpton, Tom Hulce, Dennis Dugan, Jane Jenkins, Janet Hirshenson, Babaloo Mandel, Jason Robards, Dianne Wiest, Rick Moranis, Mary Steenburgen, Brian Grazer, Keanu Reeves]                                                                                                    |\n",
      "|100822  |Tune in Tomorrow...              |1990-01-01|107     |[Comedy, Romance]             |6.10  |2061      |[Richard Portnow, Patricia Clarkson, Bill McCutcheon, William Boyd, Jon Amiel, Jim Clay, Robert M. Stevens, Mario Vargas Llosa, Peter Falk, Wynton Marsalis, Barbara Hershey, Joel Fabiani, Peter Boyle, Paul Austin, John Fiedler, Mark Tarlov, Billy Hopkins, Keanu Reeves, Jerome Dempsey, Richard B. Shull]                                                                                                              |\n",
      "|1974419 |The Neon Demon                   |2016-01-01|117     |[Horror, Thriller]            |6.10  |106344    |[Lene Børglum, Elle Fanning, Karl Glusman, Bella Heathcote, Jena Malone, Charles Baker, Cliff Martinez, Elliott Hostetter, Courtney Bright, Christina Hendricks, Nicolas Winding Refn, Matthew Newman, Jamie Clayton, Desmond Harrington, Sidonie Dumas, Vincent Maraval, Polly Stenham, Nicole Daniels, Mary Laws, Natasha Braier, Keanu Reeves, Abbey Lee]                                                                 |\n",
      "|118971  |The Devil's Advocate             |1997-01-01|144     |[Drama, Fantasy, Mystery]     |7.50  |414160    |[Taylor Hackford, Judith Ivey, Jonathan Lemkin, Tamara Tunie, Arnold Kopelson, Al Pacino, Andrzej Bartkowiak, Mary Colquhoun, Ruben Santiago-Hudson, Debra Monk, Nancy Klopper, Arnon Milchan, Tony Gilroy, Connie Nielsen, James Newton Howard, Andrew Neiderman, Jeffrey Jones, Anne Kopelson, Craig T. Nelson, Charlize Theron, Bruno Rubeo, Keanu Reeves, Mark Warner]                                                   |\n",
      "|6146586 |John Wick: Chapter 3 - Parabellum|2019-01-01|130     |[Action, Crime, Thriller]     |7.40  |441972    |[Tobias Segal, Basil Iwanyk, Shay Hatten, Ian McShane, Marc Abrams, Dan Laustsen, Chris Collins, Tyler Bates, Asia Kate Dillon, Chad Stahelski, Evan Schiff, Halle Berry, Lance Reddick, Mary Vernieu, Derek Kolstad, Laurence Fishburne, Kevin Kavanaugh, Anjelica Huston, Saïd Taghmaoui, Mark Dacascos, Erica Lee, Marisol Roncali, Joel J. Richard, Keanu Reeves]                                                        |\n",
      "|4425200 |John Wick: Chapter 2             |2017-01-01|122     |[Action, Crime, Thriller]     |7.40  |528612    |[Tobias Segal, Basil Iwanyk, Ian McShane, Dan Laustsen, Suzanne Crowley, Tyler Bates, Chad Stahelski, John Leguizamo, Riccardo Scamarcio, Evan Schiff, Common, Lance Reddick, Derek Kolstad, Laurence Fishburne, Kevin Kavanaugh, Claudia Gerini, Erica Lee, Ruby Rose, Joel J. Richard, Keanu Reeves, Jessica Kelly]                                                                                                        |\n",
      "|7374948 |Always Be My Maybe               |2019-01-01|101     |[Comedy, Romance]             |6.70  |64070     |[Michael Andrews, Nahnatchka Khan, Vivian Bang, James Saito, Karan Soni, Michael Golamco, Michelle Buteau, Nathan Kahane, Ali Wong, Richard Toyon, Rich Delia, Charlyne Yi, Randall Park, Lee Haxall, Daniel Dae Kim, Keanu Reeves, Erin Westerman, Susan Park, Tim Suhrstedt]                                                                                                                                               |\n",
      "|111257  |Speed                            |1994-01-01|116     |[Action, Adventure, Thriller] |7.30  |401743    |[Jeff Daniels, Jackson De Govia, John Wright, Andrzej Bartkowiak, Sandra Bullock, Jan de Bont, Dennis Hopper, Glenn Plummer, Mark Mancina, Hawthorne James, Alan Ruck, Richard Lineback, Graham Yost, Risa Bramon Garcia, Joe Morton, Billy Hopkins, Mark Gordon, Beth Grant, Keanu Reeves]                                                                                                                                  |\n",
      "|2014338 |Side by Side                     |2012-01-01|99      |[Documentary]                 |7.60  |13764     |[Mike Long, James Cameron, Michael Chapman, Justin Szlasa, Andrzej Bartkowiak, Jill Bogdanowicz, Christopher Kenneally, Chris Cassidy, Malcolm Hearn, Brendan Ryan, Bill Ryan, Michael Ballhaus, Derek Ambrosi, Danny Boyle, Dion Beebe, Don Ciana, Geoff Boyle, Keanu Reeves]                                                                                                                                               |\n",
      "|102685  |Point Break                      |1991-01-01|122     |[Action, Crime, Thriller]     |7.30  |209512    |[Howard E. Smith, Sharon Bialy, Gary Busey, Donald Peterman, John Philbin, Kathryn Bigelow, Joseph Newton Cohen, Julian Reyes, Peter Jamison, Peter Abrams, W. Peter Iliff, Daniel Beer, Richard Pagano, Robert L. Levy, James Le Gros, Rick King, Bojesse Christopher, John C. McGinley, Keanu Reeves, Lori Petty, Mark Isham, Patrick Swayze]                                                                              |\n",
      "|102494  |My Own Private Idaho             |1991-01-01|104     |[Drama]                       |7.00  |63567     |[Rodney Harvey, Flea, Grace Zabriskie, Curtiss Clayton, Gus Van Sant, John J. Campbell, James Russo, Chiara Caselli, Eric Alan Edwards, William Richert, Michael Parker, River Phoenix, David Brisbin, Keanu Reeves, Laurie Parker, Jessica Makinson, Bill Stafford]                                                                                                                                                         |\n",
      "|2201211 |A Boy Called Sailboat            |2018-01-01|92      |[Comedy, Drama, Family]       |6.70  |1603      |[Slava Grigoryan, Waylon James Yurcic, Noel Gugliemi, Keanu Wilson, J.K. Simmons, Amanda Lenker Doyle, Aaron Bailey, Cameron Nugent, Addison Pearson, Zeyah Pearson, Leonard Grigoryan, Trevor Johnson, Jake Busey, Carly Larson, Richard Gray, Andrew Curry, John Garrett, Julian Atocani Sanchez, Elizabeth De Razzo, Nelson Khoury]                                                                                       |\n",
      "|133093  |The Matrix                       |1999-01-01|136     |[Action, Sci-Fi]              |8.70  |2113041   |[Shauna Wolifson, Bill Pope, Joe Pantoliano, Zach Staenberg, Matt Doran, Gloria Foster, Julian Arahanga, Carrie-Anne Moss, Laurence Fishburne, Hugo Weaving, Mali Finn, Belinda McClory, Marcus Chong, Don Davis, Lilly Wachowski, Owen Paterson, Joel Silver, Lana Wachowski, Keanu Reeves]                                                                                                                                 |\n",
      "|10366206|John Wick: Chapter 4             |2023-01-01|169     |[Action, Crime, Thriller]     |7.60  |360250    |[Basil Iwanyk, Shay Hatten, Ian McShane, Dan Laustsen, Tyler Bates, Donnie Yen, George Georgiou, Chad Stahelski, Bill Skarsgård, Marko Zaror, Lance Reddick, Nathan Orloff, Derek Kolstad, Laurence Fishburne, Kharmel Cochrane, Kevin Kavanaugh, Aimée Kwan, Erica Lee, Michael Finch, Clancy Brown, Joel J. Richard, Keanu Reeves]                                                                                         |\n",
      "|18436986|Qodrat                           |2022-01-01|102     |[Action, Drama, Fantasy]      |6.30  |1022      |[Charles Gozali, Randy Pangalila, Vino G. Bastian, Agla Artalidia, Rahadian Winursito, Frans Paat, Marsha Timothy, Keanu Azka, Zamrud Lazuardi, Jason Doulez Beunaya Bangun, Cecep Arif Rahman, Teguh Raharjo, Maudy Effrosina, Pritt Timothy, Asaf Antariksa, Gea Rexy, Linda Gozali, Hani Pradigya, Whani Darmawan, Aria Prayogi]                                                                                          |\n",
      "|405296  |A Scanner Darkly                 |2006-01-01|100     |[Animation, Comedy, Crime]    |7.00  |118761    |[Graham Reynolds, Anne Walker-McBay, Jonah Smith, Natasha Janina Valdez, Cliff Haby, Bruce Curtis, Erwin Stoff, Robert Downey Jr., Richard Linklater, Tommy Pallotta, Mitch Baker, Denise Chamian, Sandra Adair, Mark Turner, Sean Allen, Steven Chester Prince, Philip K. Dick, Shane F. Kelly, Winona Ryder, Keanu Reeves, Rory Cochrane]                                                                                  |\n",
      "|95730   |The Night Before                 |1988-01-01|90      |[Comedy]                      |6.10  |3840      |[Theresa Saldana, Gwil Richards, Lori Loughlin, Suzanne Snyder, Marty Hornstein, Thom Eberhardt, Pamela Gordon, Morgan Lofting, Michel Levesque, Michael Greene, Chris Hebert, Trinidad Silva, Ronald Víctor García, Gregory Scherick, Monica Swann, Keanu Reeves, Mark Davis]                                                                                                                                               |\n",
      "|17076046|Weird: The Al Yankovic Story     |2022-01-01|108     |[Action, Biography, Comedy]   |6.90  |43320     |[Jamie Kennedy, Lin-Manuel Miranda, Mike Farah, Ross Riege, Lia Buman, Eric Appel, Keanush Tafreshi, Richard Aaron Anderson, David Bloom, Thomas Lennon, Daniel Radcliffe, Dan Butts, 'Weird Al' Yankovic, Wendy O'Brien, Diedrich Bader, Toby Huss, Julianne Nicholson, Leo Birenberg, Rainn Wilson, Zach Robinson, Joe Farrell]                                                                                            |\n",
      "|8912936 |DC League of Super-Pets          |2022-01-01|105     |[Action, Adventure, Animation]|7.10  |77598     |[David Egan, John Krasinski, Thomas Middleditch, Patricia Hicks, Dwayne Johnson, Jhoanne Reyes, Vanessa Bayer, Kevin Hart, Natasha Lyonne, Jared Stern, Joe Shuster, Dany Garcia, John Whittington, Diego Luna, Jerry Siegel, Marc Maron, Hiram Garcia, Steve Jablonsky, Keanu Reeves, Kate McKinnon, Kim Taylor, Ruth Lambert]                                                                                              |\n",
      "|94947   |Dangerous Liaisons               |1988-01-01|119     |[Drama, Romance]              |7.50  |76615     |[Valerie Gogan, John Malkovich, Juliet Taylor, Glenn Close, Uma Thurman, Stephen Frears, Mick Audsley, Hank Moonjean, Peter Capaldi, Michelle Pfeiffer, Stuart Craig, Philippe Rousselot, Swoosie Kurtz, Choderlos de Laclos, Joe Sheridan, Howard Feuer, George Fenton, Christopher Hampton, Norma Heyman, Keanu Reeves, Mildred Natwick]                                                                                   |\n",
      "|242653  |The Matrix Revolutions           |2003-01-01|129     |[Action, Sci-Fi]              |6.70  |554425    |[Shauna Wolifson, Bill Pope, Zach Staenberg, Francine Bell, Monica Bellucci, Tanveer K. Atwal, Laurence Fishburne, Kate Beahan, Hugo Weaving, Mali Finn, Carrie-Anne Moss, Don Davis, Lilly Wachowski, Mary Alice, Owen Paterson, Joel Silver, Lana Wachowski, Keanu Reeves, Helmut Bakaitis]                                                                                                                                |\n",
      "+--------+---------------------------------+----------+--------+------------------------------+------+----------+-----------------------------------------------------------------------------------------------------------------------------------------------------------------------------------------------------------------------------------------------------------------------------------------------------------------------------------------------------------------------------------------------------------------------------+\n",
      "\n"
     ]
    }
   ],
   "source": [
    "#df.filter(~(f.array_contains( df['genres'], 'Horror'))).count()\n",
    "#df.filter((f.array_contains( df['genres'], 'Thriller')) & (df['year'] >= '2000-01-01')).show(20, truncate=False) \n",
    "#df.filter((f.exists(df['persons'], lambda x: x == 'Arnold')) & (df['year'] >= '1980-01-01')).show(20, truncate=False) \n",
    "\n",
    "df_film.filter(  f.regexp_count( f.array_join('persons', ','), f.lit(r'(?i)Keanu') ) >= 1 ).show(50, False) \n",
    "#df_film.filter(  f.regexp_count( f.array_join('persons', ','), f.lit(r'(?i)John Williams') ) >= 1 ).show(50, False) \n",
    "\n",
    "#df_film.filter(  df_film['title'].rlike(r'(?i)home alone') ).show(20, False) \n",
    "#df_film.filter(  df_film['title'].rlike(r'(?i)Maze Runner') ).show(20, False) \n"
   ]
  },
  {
   "cell_type": "code",
   "execution_count": 9,
   "metadata": {},
   "outputs": [
    {
     "name": "stdout",
     "output_type": "stream",
     "text": [
      "+-------+-------------------------------------------------+----------+--------+------------------------------+------+----------+-----------------------------------------------------------------------------------------------------------------------------------------------------------------------------------------------------------------------------------------------------------------------------------------------------------------------------------+\n",
      "|film_id|title                                            |year      |duration|genres                        |rating|vote_count|persons                                                                                                                                                                                                                                                                                                                            |\n",
      "+-------+-------------------------------------------------+----------+--------+------------------------------+------+----------+-----------------------------------------------------------------------------------------------------------------------------------------------------------------------------------------------------------------------------------------------------------------------------------------------------------------------------------+\n",
      "|574    |The Story of the Kelly Gang                      |1906-01-01|70      |[Action, Adventure, Biography]|6.00  |948       |[Elizabeth Tait, Nicholas Brierley, John Tait, Will Coyne, Nevin Tait, Orrie Perry, Godfrey Cass, Norman Campbell, Charles Tait, Bella Cola, John Forde, Sam Crewes, Eric Chapus, W.A. Gibson, Jack Ennis, Millard Johnson, Reg Perry]                                                                                             |\n",
      "|3014   |Ingeborg Holm                                    |1913-01-01|96      |[Drama]                       |7.00  |1481      |[Aron Lindgren, Nils Krok, Bertil Malmstedt, Thure Holm, Hilda Borgström, Erik Lindholm, David Drazin, Hugo Björne, William Larsson, Carl Barcklind, Richard Lund, Georg Grönroos, Victor Sjöström, Henrik Jaenzon]                                                                                                                |\n",
      "|3643   |The Avenging Conscience: or 'Thou Shalt Not Kill'|1914-01-01|78      |[Crime, Drama, Horror]        |6.40  |1483      |[Mae Marsh, Ralph Lewis, Josephine Crowell, Edgar Allan Poe, George Siegmann, Spottiswoode Aitken, Robert Harron, George Beranger, D.W. Griffith, Blanche Sweet, Henry B. Walthall, Walter Long]                                                                                                                                   |\n",
      "|4134   |Hypocrites                                       |1915-01-01|54      |[Drama, Fantasy]              |6.50  |737       |[Adele Farrington, Francesca Bertini, George Berrell, Courtenay Foote, Myrtle Stedman, Herbert Standing, Dixie Carr, Jane Darwell, Lois Weber, Marjorie Daw, George W. Hill, Alva D. Blake, Dal Clawson]                                                                                                                           |\n",
      "|4873   |Alice in Wonderland                              |1915-01-01|52      |[Adventure, Family, Fantasy]  |6.10  |815       |[Elmo Lincoln, Lewis Carroll, Charles R. Macauley, Lotta Savoy, Viola Savoy, William Tilden, DeWitt C. Wheeler, W.W. Young, Harry Marks, Herbert Rice, Louis Merkle]                                                                                                                                                               |\n",
      "|5916   |After Death                                      |1915-01-01|46      |[Drama, Horror]               |6.80  |1056      |[Olga Rakhmanova, Mariya Khalatova, Tamara Gedevanova, Neil Brand, Georg Asagaroff, Yevgeny Bauer, Ivan Turgenev, Aleksandr Khanzhonkov, Martha von Konssatzki, Boris Zavelev, Vitold Polonsky, Vera Karalli]                                                                                                                      |\n",
      "|7047   |The Matrimaniac                                  |1916-01-01|46      |[Comedy, Romance]             |6.40  |651       |[Wilbur Higby, Winifred Westover, Fred Warren, Anita Loos, John Emerson, Mildred Harris, Victor Fleming, Paul Powell, Clyde E. Hopkins, Monte Blue, Constance Talmadge, Carmel Myers, J.U. Giesy, Octavus Roy Cohen, Douglas Fairbanks, Charles Stevens]                                                                           |\n",
      "|8395   |Father Sergius                                   |1918-01-01|112     |[Biography, Drama, History]   |6.80  |633       |[V. Dzheneyeva, Y. Bukke, Vladimir Gajdarov, Polycarpe Pavloff, Nathalie Lissenko, Ivan Mozzhukhin, Lev Tolstoy, Iona Talanov, Nikolai Panov, Fédote Bourgasoff, Olga Kondorova, Stanislaw Sebel, Nikolas Roudakoff, Alexandre Volkoff, Vera Orlova, Pyotr Baksheyev, Joseph N. Ermolieff]                                         |\n",
      "|10227  |Heart o' the Hills                               |1919-01-01|87      |[Drama, Romance]              |6.30  |579       |[Fred Huntley, W.H. Bainbridge, Charles Rosher, Henry Hebert, Sidney Franklin, Joseph De Grasse, Betty Bouton, Harold Goodwin, John Fox Jr., Mary Pickford, Allan Sears, Sam De Grasse, Claire McDowell, John Gilbert, Bernard McConville]                                                                                         |\n",
      "|13515  |The Prisoner of Zenda                            |1922-01-01|125     |[Adventure, Romance]          |6.80  |572       |[Grant Whytock, Stuart Holmes, Lois Lee, John F. Seitz, Mary O'Hara, Lewis Stone, Alice Terry, Rex Ingram, Edward Connelly, Anthony Hope, Malcolm McGregor, John George, Ramon Novarro, Robert Edeson, Barbara La Marr]                                                                                                            |\n",
      "|16023  |Lights of Old Broadway                           |1925-01-01|72      |[Drama, Romance]              |6.60  |567       |[Wilbur Higby, Matthew Betz, Blanche Sewell, Charles McHugh, Bodil Rosing, George K. Arthur, Julia Swayne Gordon, Joseph Farnham, Frank Currier, Monta Bell, Marion Davies, Carey Wilson, Conrad Nagel, Laurence Eyre, Ira H. Morgan, Eleanor Lawson]                                                                              |\n",
      "|16220  |The Phantom of the Opera                         |1925-01-01|93      |[Horror]                      |7.50  |20712     |[Snitz Edwards, Gibson Gowland, Mary Fabian, Gaston Leroux, Joseph Carl Breil, Mary Philbin, Roy Budd, Norman Kerry, Rupert Julian, John St. Polis, Gustav Hinrichs, Alma Wayne, Virginia Pearson, Arthur Edmund Carewe, Carl Davis, Lon Chaney]                                                                                   |\n",
      "|19254  |The Passion of Joan of Arc                       |1928-01-01|114     |[Biography, Drama, History]   |8.10  |63204     |[Ole Schmidt, Jesper Kyd, Michel Simon, Louis Ravet, Maurice Schutz, Carl Theodor Dreyer, André Berley, Maria Falconetti, Rudolph Maté, Antonin Artaud, Joseph Delteil, Jacques Arnna, Eugene Silvain, Jean d'Yd, Armand Lurville]                                                                                                 |\n",
      "|19585  |The Wind                                         |1928-01-01|95      |[Drama, Romance, Thriller]    |8.00  |7376      |[John Arnold, David Gill, Lars Hanson, William Orlamond, Dorothy Cumming, Carmencita Johnson, Kevin Brownlow, Frances Marion, Billy Kent Schaefer, Sam Appel, Dorothy Scarborough, Edward Earle, John Colton, Montagu Love, Carl Davis, Conrad A. Nervig, Victor Sjöström, Leon Janney, Lillian Gish]                              |\n",
      "|19702  |Blackmail                                        |1929-01-01|85      |[Crime, Drama, Thriller]      |6.90  |12438     |[Anny Ondra, Jack E. Cox, Jimmy Campbell, Benn W. Levy, Donald Calthrop, Cyril Ritchard, Alfred Hitchcock, Sara Allgood, John Longden, Emile de Ruelle, Johnny Ashby, Charles Paton, Charles Bennett, Hannah Jones, Harvey Braban, Ex-Det. Sergt. Bishop, Reginald Connelly]                                                       |\n",
      "|20589  |Wild Orchids                                     |1929-01-01|100     |[Drama, Romance]              |6.40  |783       |[Sidney Franklin, William H. Daniels, John Colton, Dick Sutherland, Greta Garbo, Ruth Cummings, Lewis Stone, Nils Asther, Conrad A. Nervig, Willis Goldbeck, Marian Ainslee]                                                                                                                                                       |\n",
      "|20679  |The Benson Murder Case                           |1930-01-01|65      |[Crime, Mystery, Thriller]    |6.00  |553       |[Richard Tucker, S.S. Van Dine, E.H. Calvert, Mischa Auer, Archie Stout, Natalie Moorhead, Paul Lukas, May Beatty, Frank Tuttle, Eugene Pallette, William Powell, Bartlett Cormack, Perry Ivins, William 'Stage' Boyd, Doris Drought]                                                                                              |\n",
      "|21668  |The Black Camel                                  |1931-01-01|71      |[Crime, Mystery, Thriller]    |6.60  |1699      |[J.M. Kerrigan, Murray Kinnell, Hugh Stanislaus Stange, Robert Young, Dorothy Revier, Victor Varconi, Warner Oland, Joseph H. August, Daniel B. Clark, Sally Eilers, Hamilton MacFadden, William Post Jr., Earl Derr Biggers, Barry Conners, Philip Klein, Bela Lugosi, Violet Dunn]                                               |\n",
      "|22689  |Bird of Paradise                                 |1932-01-01|80      |[Adventure, Drama, Romance]   |6.00  |1659      |[John Halliday, Wanda Tuchock, Wade Boteler, Clyde De Vinna, Bert Roach, Max Steiner, Wells Root, Lucien N. Andriot, Richard 'Skeets' Gallagher, Napoleon Pukui, Lon Chaney Jr., Reginald Simpson, Edward Cronjager, Arnold Gray, Joel McCrea, Leonard Praskins, Dolores Del Río, King Vidor, Richard Walton Tully, Archie Marshek]|\n",
      "|22775  |Frisco Jenny                                     |1932-01-01|73      |[Crime, Drama, Music]         |6.80  |1246      |[Wilson Mizner, Donald Cook, Ruth Chatterton, Robert Emmett O'Connor, Sidney Hickox, James B. Morley, William A. Wellman, Lillie Hayward, James Murray, Gerald Beaumont, Willard Robertson, Hallam Cooley, Robert Lord, Harold Huber, Louis Calhern, Helen Jerome Eddy, Pat O'Malley]                                              |\n",
      "+-------+-------------------------------------------------+----------+--------+------------------------------+------+----------+-----------------------------------------------------------------------------------------------------------------------------------------------------------------------------------------------------------------------------------------------------------------------------------------------------------------------------------+\n",
      "only showing top 20 rows\n",
      "\n"
     ]
    }
   ],
   "source": [
    "df_film.show(20, truncate=False)"
   ]
  },
  {
   "cell_type": "code",
   "execution_count": 10,
   "metadata": {},
   "outputs": [
    {
     "name": "stdout",
     "output_type": "stream",
     "text": [
      "+------------------------------+-----+\n",
      "|genres                        |count|\n",
      "+------------------------------+-----+\n",
      "|[Drama]                       |4829 |\n",
      "|[Comedy, Drama]               |2153 |\n",
      "|[Drama, Romance]              |1981 |\n",
      "|[Comedy]                      |1719 |\n",
      "|[Comedy, Drama, Romance]      |1542 |\n",
      "|[Documentary]                 |1469 |\n",
      "|[Comedy, Romance]             |972  |\n",
      "|[Action, Crime, Drama]        |742  |\n",
      "|[Crime, Drama]                |639  |\n",
      "|[Crime, Drama, Thriller]      |615  |\n",
      "|[Drama, Thriller]             |576  |\n",
      "|[Crime, Drama, Mystery]       |505  |\n",
      "|[Biography, Drama, History]   |418  |\n",
      "|[Drama, War]                  |403  |\n",
      "|[Comedy, Crime, Drama]        |376  |\n",
      "|[Crime, Drama, Film-Noir]     |356  |\n",
      "|[Action, Adventure, Animation]|331  |\n",
      "|[Action, Adventure, Drama]    |322  |\n",
      "|[Action, Comedy, Crime]       |316  |\n",
      "|[Adventure, Animation, Comedy]|315  |\n",
      "+------------------------------+-----+\n",
      "only showing top 20 rows\n",
      "\n"
     ]
    }
   ],
   "source": [
    "df_film.groupBy('genres').count().sort(f.desc('count')).show(truncate=False)\n"
   ]
  },
  {
   "cell_type": "code",
   "execution_count": 11,
   "metadata": {},
   "outputs": [
    {
     "name": "stdout",
     "output_type": "stream",
     "text": [
      "['title', 'year', 'duration', 'genres', 'rating', 'vote_count', 'persons']\n",
      "['title', 'persons', 'genres', 'year', 'duration']\n"
     ]
    }
   ],
   "source": [
    "feature_cols = [c for c in df_film.columns if c != 'film_id']\n",
    "print(feature_cols)\n",
    "feature_cols = ['title', 'persons', 'genres', 'year', 'duration']\n",
    "print(feature_cols)"
   ]
  },
  {
   "cell_type": "markdown",
   "metadata": {},
   "source": [
    "## stage 2"
   ]
  },
  {
   "cell_type": "code",
   "execution_count": 13,
   "metadata": {},
   "outputs": [
    {
     "data": {
      "text/plain": [
       "777224451"
      ]
     },
     "execution_count": 13,
     "metadata": {},
     "output_type": "execute_result"
    }
   ],
   "source": [
    "# Load the cosine similarity (martix dot product) data\n",
    "\n",
    "# >= 2024 -> 12_590 rows -> 79_247_755 normals (just for this year!)\n",
    "sc.setLogLevel(\"WARN\")\n",
    "\n",
    "# load the IMDb films data prepared in previous task\n",
    "input_path = \"../output/csfilm\"\n",
    "df_cos_sim = spark.read.parquet(input_path)\n",
    "\n",
    "df_cos_sim.count()"
   ]
  },
  {
   "cell_type": "code",
   "execution_count": 14,
   "metadata": {},
   "outputs": [
    {
     "name": "stdout",
     "output_type": "stream",
     "text": [
      "root\n",
      " |-- film_id: integer (nullable = true)\n",
      " |-- other_id: integer (nullable = true)\n",
      " |-- similarity: double (nullable = true)\n",
      "\n"
     ]
    }
   ],
   "source": [
    "#df_cos_sim = df_cos_sim.withColumnsRenamed({'i': 'film_id', 'j': 'other_id', 'dot': 'similarity'})\n",
    "df_cos_sim.printSchema()"
   ]
  },
  {
   "cell_type": "code",
   "execution_count": 15,
   "metadata": {},
   "outputs": [],
   "source": [
    "# Function to detect similarities between films\n",
    "from pyspark.sql import DataFrame\n",
    "\n",
    "def get_similar_films(film_id:int, threshold:float=0.1) -> DataFrame:\n",
    "    df_film.filter(f.col('film_id') == film_id).show(truncate=False)\n",
    "    df_rec = df_cos_sim.alias('reco')\\\n",
    "            .filter( (f.col('reco.film_id') == film_id) & (f.col('reco.similarity') >= threshold))\\\n",
    "            .join(df_film.alias('films'), f.col('reco.other_id') == f.col('films.film_id'), how='left')\\\n",
    "            .sort(f.desc('reco.similarity'))\\\n",
    "            .limit(10)\\\n",
    "            .show(truncate=False)\n",
    "\n",
    "    return df_rec\n"
   ]
  },
  {
   "cell_type": "code",
   "execution_count": 35,
   "metadata": {},
   "outputs": [
    {
     "name": "stdout",
     "output_type": "stream",
     "text": [
      "+-------+--------------------------------------------------------+----------+--------+------------------------------+------+----------+-----------------------------------------------------------------------------------------------------------------------------------------------------------------------------------------------------------------------------------------------------------------------------------------+\n",
      "|film_id|title                                                   |year      |duration|genres                        |rating|vote_count|persons                                                                                                                                                                                                                                                                                  |\n",
      "+-------+--------------------------------------------------------+----------+--------+------------------------------+------+----------+-----------------------------------------------------------------------------------------------------------------------------------------------------------------------------------------------------------------------------------------------------------------------------------------+\n",
      "|462699 |Conan the Future Boy: The Big Giant Robot's Resurrection|1984-01-01|49      |[Adventure, Animation, Family]|8.30  |800       |[Junji Chiba, Noriko Ohara, Junzô Nakajima, Iemasa Kayumi, Mieko Nobusawa, Akira Nakano, Kiyoshi Kobayashi, Yasuo Muramatsu, Hayao Miyazaki, Ichirô Nagai, Shinichirô Ikebe, Kazuyo Aoki, Shigeo Endô, Hideyuki Tanaka, Katsuji Misawa, Masashi Amenomori, Takeshi Seyama, Alexander Key]|\n",
      "+-------+--------------------------------------------------------+----------+--------+------------------------------+------+----------+-----------------------------------------------------------------------------------------------------------------------------------------------------------------------------------------------------------------------------------------------------------------------------------------+\n",
      "\n",
      "+-------+--------+-------------------+-------+-----------------------------------------------------+----------+--------+------------------------------+------+----------+----------------------------------------------------------------------------------------------------------------------------------------------------------------------------------------------------------------------------------------------------------------------------------------------------------------------------------------------------------------------------------+\n",
      "|film_id|other_id|similarity         |film_id|title                                                |year      |duration|genres                        |rating|vote_count|persons                                                                                                                                                                                                                                                                                                                                                                           |\n",
      "+-------+--------+-------------------+-------+-----------------------------------------------------+----------+--------+------------------------------+------+----------+----------------------------------------------------------------------------------------------------------------------------------------------------------------------------------------------------------------------------------------------------------------------------------------------------------------------------------------------------------------------------------+\n",
      "|462699 |1147517 |0.1676875025234939 |1147517|Doraemon: Nobita's Dinosaur                          |1980-01-01|92      |[Adventure, Animation, Family]|7.20  |860       |[Kazuo Inoue, Seiji Morita, Noriko Ohara, Nobuyo Ôyama, Kazuhiko Inoue, Kaneta Kimotsuki, Seizô Katô, Fujio F. Fujiko, Kazuyo Aoki, Sankichiro Kusube, Katsuji Misawa, Michiko Nomura, Shunsuke Kikuchi, Masayuki Katô, Sachiko Chijimatsu, Sôichi Besshi, Kazuya Tatekabe, Hiroshi Fukutomi, Seiji Matsuoka]                                                                     |\n",
      "|462699 |1147511 |0.1447495332495111 |1147511|Doraemon: Nobita and the Birth of Japan              |1989-01-01|102     |[Adventure, Animation, Family]|6.90  |548       |[Fujio F. Fujiko, Kazuyo Aoki, Noriko Ohara, Nobuyo Ôyama, Michiko Nomura, Naoki Bando, Sachiko Chijimatsu, Chafûrin, Issei Futamata, Kazuya Tatekabe, Tsutomu Shibayama, Kaneta Kimotsuki]                                                                                                                                                                                       |\n",
      "|462699 |1147509 |0.11596733188973526|1147509|Doraemon: Nobita and the Castle of the Undersea Devil|1983-01-01|94      |[Adventure, Animation, Comedy]|6.90  |593       |[Kazuo Inoue, Noriko Ohara, Nobuyo Ôyama, Akitarô Daichi, Tetsuo Kanno, Kaneta Kimotsuki, Kôichi Hashimoto, Tsutomu Shibayama, Hozumi Gôda, Fujio F. Fujiko, Kazuyo Aoki, Michiko Nomura, Shunsuke Kikuchi, Masayuki Katô, Sachiko Chijimatsu, Sôichi Besshi, Kazuya Tatekabe]                                                                                                    |\n",
      "|462699 |1147528 |0.11209475509578952|1147528|Doraemon: Nobita and the Steel Troops                |1986-01-01|97      |[Adventure, Animation, Family]|7.70  |928       |[Kazuo Inoue, Noriko Ohara, Yoshiaki Koizumi, Nobuyo Ôyama, Masami Hatano, Kaneta Kimotsuki, Kôichi Hashimoto, Tsutomu Shibayama, Akio Saitô, Fujiko Fujio A., Fujio F. Fujiko, Kazuyo Aoki, Michiko Nomura, Shunsuke Kikuchi, Masayuki Katô, Masashi Hirose, Yûko Watase, Sachiko Chijimatsu, Sôichi Besshi, Kazuya Tatekabe]                                                    |\n",
      "|462699 |1147524 |0.10240690439425498|1147524|Doraemon: Nobita's Three Visionary Swordsmen         |1994-01-01|98      |[Adventure, Animation, Comedy]|7.30  |924       |[Hideko Takahashi, Noriko Ohara, Iemasa Kayumi, Keiki Miyake, Nobuyo Ôyama, Yoshiaki Koizumi, Kaneta Kimotsuki, Akihiro Kawasaki, Masako Matsubara, Tsutomu Shibayama, Toshihiko Kojima, Toshihide Yamada, Fujio F. Fujiko, Michiko Nomura, Shunsuke Kikuchi, Kinto Tamura, Sachiko Chijimatsu, Hideaki Murai, Sôichi Besshi, Kazuta Furubayashi, Kazuya Tatekabe, Ryôichi Tanaka]|\n",
      "+-------+--------+-------------------+-------+-----------------------------------------------------+----------+--------+------------------------------+------+----------+----------------------------------------------------------------------------------------------------------------------------------------------------------------------------------------------------------------------------------------------------------------------------------------------------------------------------------------------------------------------------------+\n",
      "\n"
     ]
    }
   ],
   "source": [
    "#get_similar_films(1392170)\n",
    "#get_similar_films(99785) # Home Alone\n",
    "#get_similar_films(88763) # \"BTTF\"\n",
    "#get_similar_films(990372, 0.45) # \"Detective Conan\"\n",
    "get_similar_films(462699) # \"Conan the Future Boy\"\n",
    "#get_similar_films(1392170) # \"The Hunger Games\"\n",
    "#get_similar_films(99785) # Home Alone\n",
    "#get_similar_films(11286314) # \"Don't Look Up\"\n",
    "#get_similar_films(15410318, 0.1) # \"Amy's bucket list\"\n",
    "#get_similar_films(1517268, 0.05) # \"Barbie\"\n",
    "#get_similar_films(120915, 0.1) # Star Wars I\n",
    "#get_similar_films(133093, 0.2) # The Matrix\n",
    "#get_similar_films(6791350) # Guardians of the Galaxy 3\n",
    "#get_similar_films(film_id=11286314, threshold=0.1)\n",
    "\n",
    "#get_similar_films() # "
   ]
  },
  {
   "cell_type": "code",
   "execution_count": 71,
   "metadata": {},
   "outputs": [],
   "source": [
    "sc.stop()"
   ]
  }
 ],
 "metadata": {
  "kernelspec": {
   "display_name": "luigi",
   "language": "python",
   "name": "luigi"
  },
  "language_info": {
   "codemirror_mode": {
    "name": "ipython",
    "version": 3
   },
   "file_extension": ".py",
   "mimetype": "text/x-python",
   "name": "python",
   "nbconvert_exporter": "python",
   "pygments_lexer": "ipython3",
   "version": "3.13.0"
  }
 },
 "nbformat": 4,
 "nbformat_minor": 2
}
